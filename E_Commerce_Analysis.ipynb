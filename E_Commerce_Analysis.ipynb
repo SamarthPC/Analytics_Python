{
  "nbformat": 4,
  "nbformat_minor": 0,
  "metadata": {
    "colab": {
      "provenance": []
    },
    "kernelspec": {
      "name": "python3",
      "display_name": "Python 3"
    },
    "language_info": {
      "name": "python"
    }
  },
  "cells": [
    {
      "cell_type": "code",
      "execution_count": 82,
      "metadata": {
        "id": "DgZf_C9VXthP"
      },
      "outputs": [],
      "source": [
        "import pandas as pd\n",
        "import numpy as np"
      ]
    },
    {
      "cell_type": "code",
      "source": [
        "df = pd.read_csv('Ecommerce Purchases')"
      ],
      "metadata": {
        "id": "BCYx4-jsX5UE"
      },
      "execution_count": 83,
      "outputs": []
    },
    {
      "cell_type": "code",
      "source": [
        "df"
      ],
      "metadata": {
        "colab": {
          "base_uri": "https://localhost:8080/",
          "height": 1000
        },
        "id": "mYW3O5Q4YAlV",
        "outputId": "b505c905-c3f3-4d0e-895e-f683c20ce1b2"
      },
      "execution_count": 84,
      "outputs": [
        {
          "output_type": "execute_result",
          "data": {
            "text/plain": [
              "                                                Address    Lot AM or PM  \\\n",
              "0     16629 Pace Camp Apt. 448\\nAlexisborough, NE 77...  46 in       PM   \n",
              "1     9374 Jasmine Spurs Suite 508\\nSouth John, TN 8...  28 rn       PM   \n",
              "2                      Unit 0065 Box 5052\\nDPO AP 27450  94 vE       PM   \n",
              "3                 7780 Julia Fords\\nNew Stacy, WA 45798  36 vm       PM   \n",
              "4     23012 Munoz Drive Suite 337\\nNew Cynthia, TX 5...  20 IE       AM   \n",
              "...                                                 ...    ...      ...   \n",
              "9995      966 Castaneda Locks\\nWest Juliafurt, CO 96415  92 XI       PM   \n",
              "9996  832 Curtis Dam Suite 785\\nNorth Edwardburgh, T...  41 JY       AM   \n",
              "9997              Unit 4434 Box 6343\\nDPO AE 28026-0283  74 Zh       AM   \n",
              "9998               0096 English Rest\\nRoystad, IA 12457  74 cL       PM   \n",
              "9999     40674 Barrett Stravenue\\nGrimesville, WI 79682  64 Hr       AM   \n",
              "\n",
              "                                           Browser Info  \\\n",
              "0     Opera/9.56.(X11; Linux x86_64; sl-SI) Presto/2...   \n",
              "1     Opera/8.93.(Windows 98; Win 9x 4.90; en-US) Pr...   \n",
              "2     Mozilla/5.0 (compatible; MSIE 9.0; Windows NT ...   \n",
              "3     Mozilla/5.0 (Macintosh; Intel Mac OS X 10_8_0 ...   \n",
              "4     Opera/9.58.(X11; Linux x86_64; it-IT) Presto/2...   \n",
              "...                                                 ...   \n",
              "9995  Mozilla/5.0 (Windows NT 5.1) AppleWebKit/5352 ...   \n",
              "9996  Mozilla/5.0 (compatible; MSIE 9.0; Windows NT ...   \n",
              "9997  Mozilla/5.0 (Macintosh; U; Intel Mac OS X 10_7...   \n",
              "9998  Mozilla/5.0 (Macintosh; Intel Mac OS X 10_8_8;...   \n",
              "9999  Mozilla/5.0 (X11; Linux i686; rv:1.9.5.20) Gec...   \n",
              "\n",
              "                              Company       Credit Card CC Exp Date  \\\n",
              "0                     Martinez-Herman  6011929061123406       02/20   \n",
              "1     Fletcher, Richards and Whitaker  3337758169645356       11/18   \n",
              "2          Simpson, Williams and Pham      675957666125       08/19   \n",
              "3     Williams, Marshall and Buchanan  6011578504430710       02/24   \n",
              "4           Brown, Watson and Andrews  6011456623207998       10/25   \n",
              "...                               ...               ...         ...   \n",
              "9995                    Randall-Sloan   342945015358701       03/22   \n",
              "9996         Hale, Collins and Wilson   210033169205009       07/25   \n",
              "9997                     Anderson Ltd  6011539787356311       05/21   \n",
              "9998                         Cook Inc   180003348082930       11/17   \n",
              "9999                       Greene Inc  4139972901927273       02/19   \n",
              "\n",
              "      CC Security Code                  CC Provider  \\\n",
              "0                  900                 JCB 16 digit   \n",
              "1                  561                   Mastercard   \n",
              "2                  699                 JCB 16 digit   \n",
              "3                  384                     Discover   \n",
              "4                  678  Diners Club / Carte Blanche   \n",
              "...                ...                          ...   \n",
              "9995               838                 JCB 15 digit   \n",
              "9996               207                 JCB 16 digit   \n",
              "9997                 1                VISA 16 digit   \n",
              "9998               987             American Express   \n",
              "9999               302                 JCB 15 digit   \n",
              "\n",
              "                               Email                                     Job  \\\n",
              "0                  pdunlap@yahoo.com  Scientist, product/process development   \n",
              "1                 anthony41@reed.com                       Drilling engineer   \n",
              "2     amymiller@morales-harrison.com                Customer service manager   \n",
              "3        brent16@olson-robinson.info                       Drilling engineer   \n",
              "4        christopherwright@gmail.com                             Fine artist   \n",
              "...                              ...                                     ...   \n",
              "9995          iscott@wade-garner.com                              Printmaker   \n",
              "9996              mary85@hotmail.com                         Energy engineer   \n",
              "9997               tyler16@gmail.com                      Veterinary surgeon   \n",
              "9998         elizabethmoore@reid.net                Local government officer   \n",
              "9999           rachelford@vaughn.com                  Embryologist, clinical   \n",
              "\n",
              "           IP Address Language  Purchase Price  \n",
              "0     149.146.147.205       el           98.14  \n",
              "1        15.160.41.51       fr           70.73  \n",
              "2      132.207.160.22       de            0.95  \n",
              "3        30.250.74.19       es           78.04  \n",
              "4        24.140.33.94       es           77.82  \n",
              "...               ...      ...             ...  \n",
              "9995    29.73.197.114       it           82.21  \n",
              "9996   121.133.168.51       pt           25.63  \n",
              "9997    156.210.0.254       el           83.98  \n",
              "9998     55.78.26.143       es           38.84  \n",
              "9999  176.119.198.199       el           67.59  \n",
              "\n",
              "[10000 rows x 14 columns]"
            ],
            "text/html": [
              "\n",
              "  <div id=\"df-df3028b8-edbf-423c-af60-a76828e43127\">\n",
              "    <div class=\"colab-df-container\">\n",
              "      <div>\n",
              "<style scoped>\n",
              "    .dataframe tbody tr th:only-of-type {\n",
              "        vertical-align: middle;\n",
              "    }\n",
              "\n",
              "    .dataframe tbody tr th {\n",
              "        vertical-align: top;\n",
              "    }\n",
              "\n",
              "    .dataframe thead th {\n",
              "        text-align: right;\n",
              "    }\n",
              "</style>\n",
              "<table border=\"1\" class=\"dataframe\">\n",
              "  <thead>\n",
              "    <tr style=\"text-align: right;\">\n",
              "      <th></th>\n",
              "      <th>Address</th>\n",
              "      <th>Lot</th>\n",
              "      <th>AM or PM</th>\n",
              "      <th>Browser Info</th>\n",
              "      <th>Company</th>\n",
              "      <th>Credit Card</th>\n",
              "      <th>CC Exp Date</th>\n",
              "      <th>CC Security Code</th>\n",
              "      <th>CC Provider</th>\n",
              "      <th>Email</th>\n",
              "      <th>Job</th>\n",
              "      <th>IP Address</th>\n",
              "      <th>Language</th>\n",
              "      <th>Purchase Price</th>\n",
              "    </tr>\n",
              "  </thead>\n",
              "  <tbody>\n",
              "    <tr>\n",
              "      <th>0</th>\n",
              "      <td>16629 Pace Camp Apt. 448\\nAlexisborough, NE 77...</td>\n",
              "      <td>46 in</td>\n",
              "      <td>PM</td>\n",
              "      <td>Opera/9.56.(X11; Linux x86_64; sl-SI) Presto/2...</td>\n",
              "      <td>Martinez-Herman</td>\n",
              "      <td>6011929061123406</td>\n",
              "      <td>02/20</td>\n",
              "      <td>900</td>\n",
              "      <td>JCB 16 digit</td>\n",
              "      <td>pdunlap@yahoo.com</td>\n",
              "      <td>Scientist, product/process development</td>\n",
              "      <td>149.146.147.205</td>\n",
              "      <td>el</td>\n",
              "      <td>98.14</td>\n",
              "    </tr>\n",
              "    <tr>\n",
              "      <th>1</th>\n",
              "      <td>9374 Jasmine Spurs Suite 508\\nSouth John, TN 8...</td>\n",
              "      <td>28 rn</td>\n",
              "      <td>PM</td>\n",
              "      <td>Opera/8.93.(Windows 98; Win 9x 4.90; en-US) Pr...</td>\n",
              "      <td>Fletcher, Richards and Whitaker</td>\n",
              "      <td>3337758169645356</td>\n",
              "      <td>11/18</td>\n",
              "      <td>561</td>\n",
              "      <td>Mastercard</td>\n",
              "      <td>anthony41@reed.com</td>\n",
              "      <td>Drilling engineer</td>\n",
              "      <td>15.160.41.51</td>\n",
              "      <td>fr</td>\n",
              "      <td>70.73</td>\n",
              "    </tr>\n",
              "    <tr>\n",
              "      <th>2</th>\n",
              "      <td>Unit 0065 Box 5052\\nDPO AP 27450</td>\n",
              "      <td>94 vE</td>\n",
              "      <td>PM</td>\n",
              "      <td>Mozilla/5.0 (compatible; MSIE 9.0; Windows NT ...</td>\n",
              "      <td>Simpson, Williams and Pham</td>\n",
              "      <td>675957666125</td>\n",
              "      <td>08/19</td>\n",
              "      <td>699</td>\n",
              "      <td>JCB 16 digit</td>\n",
              "      <td>amymiller@morales-harrison.com</td>\n",
              "      <td>Customer service manager</td>\n",
              "      <td>132.207.160.22</td>\n",
              "      <td>de</td>\n",
              "      <td>0.95</td>\n",
              "    </tr>\n",
              "    <tr>\n",
              "      <th>3</th>\n",
              "      <td>7780 Julia Fords\\nNew Stacy, WA 45798</td>\n",
              "      <td>36 vm</td>\n",
              "      <td>PM</td>\n",
              "      <td>Mozilla/5.0 (Macintosh; Intel Mac OS X 10_8_0 ...</td>\n",
              "      <td>Williams, Marshall and Buchanan</td>\n",
              "      <td>6011578504430710</td>\n",
              "      <td>02/24</td>\n",
              "      <td>384</td>\n",
              "      <td>Discover</td>\n",
              "      <td>brent16@olson-robinson.info</td>\n",
              "      <td>Drilling engineer</td>\n",
              "      <td>30.250.74.19</td>\n",
              "      <td>es</td>\n",
              "      <td>78.04</td>\n",
              "    </tr>\n",
              "    <tr>\n",
              "      <th>4</th>\n",
              "      <td>23012 Munoz Drive Suite 337\\nNew Cynthia, TX 5...</td>\n",
              "      <td>20 IE</td>\n",
              "      <td>AM</td>\n",
              "      <td>Opera/9.58.(X11; Linux x86_64; it-IT) Presto/2...</td>\n",
              "      <td>Brown, Watson and Andrews</td>\n",
              "      <td>6011456623207998</td>\n",
              "      <td>10/25</td>\n",
              "      <td>678</td>\n",
              "      <td>Diners Club / Carte Blanche</td>\n",
              "      <td>christopherwright@gmail.com</td>\n",
              "      <td>Fine artist</td>\n",
              "      <td>24.140.33.94</td>\n",
              "      <td>es</td>\n",
              "      <td>77.82</td>\n",
              "    </tr>\n",
              "    <tr>\n",
              "      <th>...</th>\n",
              "      <td>...</td>\n",
              "      <td>...</td>\n",
              "      <td>...</td>\n",
              "      <td>...</td>\n",
              "      <td>...</td>\n",
              "      <td>...</td>\n",
              "      <td>...</td>\n",
              "      <td>...</td>\n",
              "      <td>...</td>\n",
              "      <td>...</td>\n",
              "      <td>...</td>\n",
              "      <td>...</td>\n",
              "      <td>...</td>\n",
              "      <td>...</td>\n",
              "    </tr>\n",
              "    <tr>\n",
              "      <th>9995</th>\n",
              "      <td>966 Castaneda Locks\\nWest Juliafurt, CO 96415</td>\n",
              "      <td>92 XI</td>\n",
              "      <td>PM</td>\n",
              "      <td>Mozilla/5.0 (Windows NT 5.1) AppleWebKit/5352 ...</td>\n",
              "      <td>Randall-Sloan</td>\n",
              "      <td>342945015358701</td>\n",
              "      <td>03/22</td>\n",
              "      <td>838</td>\n",
              "      <td>JCB 15 digit</td>\n",
              "      <td>iscott@wade-garner.com</td>\n",
              "      <td>Printmaker</td>\n",
              "      <td>29.73.197.114</td>\n",
              "      <td>it</td>\n",
              "      <td>82.21</td>\n",
              "    </tr>\n",
              "    <tr>\n",
              "      <th>9996</th>\n",
              "      <td>832 Curtis Dam Suite 785\\nNorth Edwardburgh, T...</td>\n",
              "      <td>41 JY</td>\n",
              "      <td>AM</td>\n",
              "      <td>Mozilla/5.0 (compatible; MSIE 9.0; Windows NT ...</td>\n",
              "      <td>Hale, Collins and Wilson</td>\n",
              "      <td>210033169205009</td>\n",
              "      <td>07/25</td>\n",
              "      <td>207</td>\n",
              "      <td>JCB 16 digit</td>\n",
              "      <td>mary85@hotmail.com</td>\n",
              "      <td>Energy engineer</td>\n",
              "      <td>121.133.168.51</td>\n",
              "      <td>pt</td>\n",
              "      <td>25.63</td>\n",
              "    </tr>\n",
              "    <tr>\n",
              "      <th>9997</th>\n",
              "      <td>Unit 4434 Box 6343\\nDPO AE 28026-0283</td>\n",
              "      <td>74 Zh</td>\n",
              "      <td>AM</td>\n",
              "      <td>Mozilla/5.0 (Macintosh; U; Intel Mac OS X 10_7...</td>\n",
              "      <td>Anderson Ltd</td>\n",
              "      <td>6011539787356311</td>\n",
              "      <td>05/21</td>\n",
              "      <td>1</td>\n",
              "      <td>VISA 16 digit</td>\n",
              "      <td>tyler16@gmail.com</td>\n",
              "      <td>Veterinary surgeon</td>\n",
              "      <td>156.210.0.254</td>\n",
              "      <td>el</td>\n",
              "      <td>83.98</td>\n",
              "    </tr>\n",
              "    <tr>\n",
              "      <th>9998</th>\n",
              "      <td>0096 English Rest\\nRoystad, IA 12457</td>\n",
              "      <td>74 cL</td>\n",
              "      <td>PM</td>\n",
              "      <td>Mozilla/5.0 (Macintosh; Intel Mac OS X 10_8_8;...</td>\n",
              "      <td>Cook Inc</td>\n",
              "      <td>180003348082930</td>\n",
              "      <td>11/17</td>\n",
              "      <td>987</td>\n",
              "      <td>American Express</td>\n",
              "      <td>elizabethmoore@reid.net</td>\n",
              "      <td>Local government officer</td>\n",
              "      <td>55.78.26.143</td>\n",
              "      <td>es</td>\n",
              "      <td>38.84</td>\n",
              "    </tr>\n",
              "    <tr>\n",
              "      <th>9999</th>\n",
              "      <td>40674 Barrett Stravenue\\nGrimesville, WI 79682</td>\n",
              "      <td>64 Hr</td>\n",
              "      <td>AM</td>\n",
              "      <td>Mozilla/5.0 (X11; Linux i686; rv:1.9.5.20) Gec...</td>\n",
              "      <td>Greene Inc</td>\n",
              "      <td>4139972901927273</td>\n",
              "      <td>02/19</td>\n",
              "      <td>302</td>\n",
              "      <td>JCB 15 digit</td>\n",
              "      <td>rachelford@vaughn.com</td>\n",
              "      <td>Embryologist, clinical</td>\n",
              "      <td>176.119.198.199</td>\n",
              "      <td>el</td>\n",
              "      <td>67.59</td>\n",
              "    </tr>\n",
              "  </tbody>\n",
              "</table>\n",
              "<p>10000 rows × 14 columns</p>\n",
              "</div>\n",
              "      <button class=\"colab-df-convert\" onclick=\"convertToInteractive('df-df3028b8-edbf-423c-af60-a76828e43127')\"\n",
              "              title=\"Convert this dataframe to an interactive table.\"\n",
              "              style=\"display:none;\">\n",
              "        \n",
              "  <svg xmlns=\"http://www.w3.org/2000/svg\" height=\"24px\"viewBox=\"0 0 24 24\"\n",
              "       width=\"24px\">\n",
              "    <path d=\"M0 0h24v24H0V0z\" fill=\"none\"/>\n",
              "    <path d=\"M18.56 5.44l.94 2.06.94-2.06 2.06-.94-2.06-.94-.94-2.06-.94 2.06-2.06.94zm-11 1L8.5 8.5l.94-2.06 2.06-.94-2.06-.94L8.5 2.5l-.94 2.06-2.06.94zm10 10l.94 2.06.94-2.06 2.06-.94-2.06-.94-.94-2.06-.94 2.06-2.06.94z\"/><path d=\"M17.41 7.96l-1.37-1.37c-.4-.4-.92-.59-1.43-.59-.52 0-1.04.2-1.43.59L10.3 9.45l-7.72 7.72c-.78.78-.78 2.05 0 2.83L4 21.41c.39.39.9.59 1.41.59.51 0 1.02-.2 1.41-.59l7.78-7.78 2.81-2.81c.8-.78.8-2.07 0-2.86zM5.41 20L4 18.59l7.72-7.72 1.47 1.35L5.41 20z\"/>\n",
              "  </svg>\n",
              "      </button>\n",
              "      \n",
              "  <style>\n",
              "    .colab-df-container {\n",
              "      display:flex;\n",
              "      flex-wrap:wrap;\n",
              "      gap: 12px;\n",
              "    }\n",
              "\n",
              "    .colab-df-convert {\n",
              "      background-color: #E8F0FE;\n",
              "      border: none;\n",
              "      border-radius: 50%;\n",
              "      cursor: pointer;\n",
              "      display: none;\n",
              "      fill: #1967D2;\n",
              "      height: 32px;\n",
              "      padding: 0 0 0 0;\n",
              "      width: 32px;\n",
              "    }\n",
              "\n",
              "    .colab-df-convert:hover {\n",
              "      background-color: #E2EBFA;\n",
              "      box-shadow: 0px 1px 2px rgba(60, 64, 67, 0.3), 0px 1px 3px 1px rgba(60, 64, 67, 0.15);\n",
              "      fill: #174EA6;\n",
              "    }\n",
              "\n",
              "    [theme=dark] .colab-df-convert {\n",
              "      background-color: #3B4455;\n",
              "      fill: #D2E3FC;\n",
              "    }\n",
              "\n",
              "    [theme=dark] .colab-df-convert:hover {\n",
              "      background-color: #434B5C;\n",
              "      box-shadow: 0px 1px 3px 1px rgba(0, 0, 0, 0.15);\n",
              "      filter: drop-shadow(0px 1px 2px rgba(0, 0, 0, 0.3));\n",
              "      fill: #FFFFFF;\n",
              "    }\n",
              "  </style>\n",
              "\n",
              "      <script>\n",
              "        const buttonEl =\n",
              "          document.querySelector('#df-df3028b8-edbf-423c-af60-a76828e43127 button.colab-df-convert');\n",
              "        buttonEl.style.display =\n",
              "          google.colab.kernel.accessAllowed ? 'block' : 'none';\n",
              "\n",
              "        async function convertToInteractive(key) {\n",
              "          const element = document.querySelector('#df-df3028b8-edbf-423c-af60-a76828e43127');\n",
              "          const dataTable =\n",
              "            await google.colab.kernel.invokeFunction('convertToInteractive',\n",
              "                                                     [key], {});\n",
              "          if (!dataTable) return;\n",
              "\n",
              "          const docLinkHtml = 'Like what you see? Visit the ' +\n",
              "            '<a target=\"_blank\" href=https://colab.research.google.com/notebooks/data_table.ipynb>data table notebook</a>'\n",
              "            + ' to learn more about interactive tables.';\n",
              "          element.innerHTML = '';\n",
              "          dataTable['output_type'] = 'display_data';\n",
              "          await google.colab.output.renderOutput(dataTable, element);\n",
              "          const docLink = document.createElement('div');\n",
              "          docLink.innerHTML = docLinkHtml;\n",
              "          element.appendChild(docLink);\n",
              "        }\n",
              "      </script>\n",
              "    </div>\n",
              "  </div>\n",
              "  "
            ]
          },
          "metadata": {},
          "execution_count": 84
        }
      ]
    },
    {
      "cell_type": "code",
      "source": [
        "#display the top ten rows of the dataset \n",
        "\n",
        "df.head(10)"
      ],
      "metadata": {
        "colab": {
          "base_uri": "https://localhost:8080/",
          "height": 878
        },
        "id": "a31cGuVbYBOA",
        "outputId": "761e0fc3-7e90-4e51-b181-e9108fd382cb"
      },
      "execution_count": 85,
      "outputs": [
        {
          "output_type": "execute_result",
          "data": {
            "text/plain": [
              "                                             Address    Lot AM or PM  \\\n",
              "0  16629 Pace Camp Apt. 448\\nAlexisborough, NE 77...  46 in       PM   \n",
              "1  9374 Jasmine Spurs Suite 508\\nSouth John, TN 8...  28 rn       PM   \n",
              "2                   Unit 0065 Box 5052\\nDPO AP 27450  94 vE       PM   \n",
              "3              7780 Julia Fords\\nNew Stacy, WA 45798  36 vm       PM   \n",
              "4  23012 Munoz Drive Suite 337\\nNew Cynthia, TX 5...  20 IE       AM   \n",
              "5  7502 Powell Mission Apt. 768\\nTravisland, VA 3...  21 XT       PM   \n",
              "6     93971 Conway Causeway\\nAndersonburgh, AZ 75107  96 Xt       AM   \n",
              "7  260 Rachel Plains Suite 366\\nCastroberg, WV 24...  96 pG       PM   \n",
              "8            2129 Dylan Burg\\nNew Michelle, ME 28650  45 JN       PM   \n",
              "9    3795 Dawson Extensions\\nLake Tinafort, ID 88739  15 Ug       AM   \n",
              "\n",
              "                                        Browser Info  \\\n",
              "0  Opera/9.56.(X11; Linux x86_64; sl-SI) Presto/2...   \n",
              "1  Opera/8.93.(Windows 98; Win 9x 4.90; en-US) Pr...   \n",
              "2  Mozilla/5.0 (compatible; MSIE 9.0; Windows NT ...   \n",
              "3  Mozilla/5.0 (Macintosh; Intel Mac OS X 10_8_0 ...   \n",
              "4  Opera/9.58.(X11; Linux x86_64; it-IT) Presto/2...   \n",
              "5  Mozilla/5.0 (Macintosh; U; PPC Mac OS X 10_8_5...   \n",
              "6  Mozilla/5.0 (compatible; MSIE 7.0; Windows NT ...   \n",
              "7  Mozilla/5.0 (X11; Linux i686) AppleWebKit/5350...   \n",
              "8  Mozilla/5.0 (Macintosh; U; Intel Mac OS X 10_7...   \n",
              "9  Mozilla/5.0 (X11; Linux i686; rv:1.9.7.20) Gec...   \n",
              "\n",
              "                           Company       Credit Card CC Exp Date  \\\n",
              "0                  Martinez-Herman  6011929061123406       02/20   \n",
              "1  Fletcher, Richards and Whitaker  3337758169645356       11/18   \n",
              "2       Simpson, Williams and Pham      675957666125       08/19   \n",
              "3  Williams, Marshall and Buchanan  6011578504430710       02/24   \n",
              "4        Brown, Watson and Andrews  6011456623207998       10/25   \n",
              "5                   Silva-Anderson    30246185196287       07/25   \n",
              "6                  Gibson and Sons  6011398782655569       07/24   \n",
              "7                 Marshall-Collins      561252141909       06/25   \n",
              "8                Galloway and Sons   180041795790001       04/24   \n",
              "9     Rivera, Buchanan and Ramirez     4396283918371       01/17   \n",
              "\n",
              "   CC Security Code                  CC Provider  \\\n",
              "0               900                 JCB 16 digit   \n",
              "1               561                   Mastercard   \n",
              "2               699                 JCB 16 digit   \n",
              "3               384                     Discover   \n",
              "4               678  Diners Club / Carte Blanche   \n",
              "5              7169                     Discover   \n",
              "6               714                VISA 16 digit   \n",
              "7               256                VISA 13 digit   \n",
              "8               899                 JCB 16 digit   \n",
              "9               931             American Express   \n",
              "\n",
              "                            Email                                     Job  \\\n",
              "0               pdunlap@yahoo.com  Scientist, product/process development   \n",
              "1              anthony41@reed.com                       Drilling engineer   \n",
              "2  amymiller@morales-harrison.com                Customer service manager   \n",
              "3     brent16@olson-robinson.info                       Drilling engineer   \n",
              "4     christopherwright@gmail.com                             Fine artist   \n",
              "5               ynguyen@gmail.com                       Fish farm manager   \n",
              "6              olivia04@yahoo.com                                  Dancer   \n",
              "7            phillip48@parks.info                         Event organiser   \n",
              "8            kdavis@rasmussen.com                       Financial manager   \n",
              "9        qcoleman@hunt-huerta.com                      Forensic scientist   \n",
              "\n",
              "        IP Address Language  Purchase Price  \n",
              "0  149.146.147.205       el           98.14  \n",
              "1     15.160.41.51       fr           70.73  \n",
              "2   132.207.160.22       de            0.95  \n",
              "3     30.250.74.19       es           78.04  \n",
              "4     24.140.33.94       es           77.82  \n",
              "5    55.96.152.147       ru           25.15  \n",
              "6   127.252.144.18       de           88.56  \n",
              "7   224.247.97.150       pt           44.25  \n",
              "8  146.234.201.229       ru           59.54  \n",
              "9    236.198.199.8       zh           95.63  "
            ],
            "text/html": [
              "\n",
              "  <div id=\"df-79b0118d-4af7-4546-9084-01e6c60d2f6f\">\n",
              "    <div class=\"colab-df-container\">\n",
              "      <div>\n",
              "<style scoped>\n",
              "    .dataframe tbody tr th:only-of-type {\n",
              "        vertical-align: middle;\n",
              "    }\n",
              "\n",
              "    .dataframe tbody tr th {\n",
              "        vertical-align: top;\n",
              "    }\n",
              "\n",
              "    .dataframe thead th {\n",
              "        text-align: right;\n",
              "    }\n",
              "</style>\n",
              "<table border=\"1\" class=\"dataframe\">\n",
              "  <thead>\n",
              "    <tr style=\"text-align: right;\">\n",
              "      <th></th>\n",
              "      <th>Address</th>\n",
              "      <th>Lot</th>\n",
              "      <th>AM or PM</th>\n",
              "      <th>Browser Info</th>\n",
              "      <th>Company</th>\n",
              "      <th>Credit Card</th>\n",
              "      <th>CC Exp Date</th>\n",
              "      <th>CC Security Code</th>\n",
              "      <th>CC Provider</th>\n",
              "      <th>Email</th>\n",
              "      <th>Job</th>\n",
              "      <th>IP Address</th>\n",
              "      <th>Language</th>\n",
              "      <th>Purchase Price</th>\n",
              "    </tr>\n",
              "  </thead>\n",
              "  <tbody>\n",
              "    <tr>\n",
              "      <th>0</th>\n",
              "      <td>16629 Pace Camp Apt. 448\\nAlexisborough, NE 77...</td>\n",
              "      <td>46 in</td>\n",
              "      <td>PM</td>\n",
              "      <td>Opera/9.56.(X11; Linux x86_64; sl-SI) Presto/2...</td>\n",
              "      <td>Martinez-Herman</td>\n",
              "      <td>6011929061123406</td>\n",
              "      <td>02/20</td>\n",
              "      <td>900</td>\n",
              "      <td>JCB 16 digit</td>\n",
              "      <td>pdunlap@yahoo.com</td>\n",
              "      <td>Scientist, product/process development</td>\n",
              "      <td>149.146.147.205</td>\n",
              "      <td>el</td>\n",
              "      <td>98.14</td>\n",
              "    </tr>\n",
              "    <tr>\n",
              "      <th>1</th>\n",
              "      <td>9374 Jasmine Spurs Suite 508\\nSouth John, TN 8...</td>\n",
              "      <td>28 rn</td>\n",
              "      <td>PM</td>\n",
              "      <td>Opera/8.93.(Windows 98; Win 9x 4.90; en-US) Pr...</td>\n",
              "      <td>Fletcher, Richards and Whitaker</td>\n",
              "      <td>3337758169645356</td>\n",
              "      <td>11/18</td>\n",
              "      <td>561</td>\n",
              "      <td>Mastercard</td>\n",
              "      <td>anthony41@reed.com</td>\n",
              "      <td>Drilling engineer</td>\n",
              "      <td>15.160.41.51</td>\n",
              "      <td>fr</td>\n",
              "      <td>70.73</td>\n",
              "    </tr>\n",
              "    <tr>\n",
              "      <th>2</th>\n",
              "      <td>Unit 0065 Box 5052\\nDPO AP 27450</td>\n",
              "      <td>94 vE</td>\n",
              "      <td>PM</td>\n",
              "      <td>Mozilla/5.0 (compatible; MSIE 9.0; Windows NT ...</td>\n",
              "      <td>Simpson, Williams and Pham</td>\n",
              "      <td>675957666125</td>\n",
              "      <td>08/19</td>\n",
              "      <td>699</td>\n",
              "      <td>JCB 16 digit</td>\n",
              "      <td>amymiller@morales-harrison.com</td>\n",
              "      <td>Customer service manager</td>\n",
              "      <td>132.207.160.22</td>\n",
              "      <td>de</td>\n",
              "      <td>0.95</td>\n",
              "    </tr>\n",
              "    <tr>\n",
              "      <th>3</th>\n",
              "      <td>7780 Julia Fords\\nNew Stacy, WA 45798</td>\n",
              "      <td>36 vm</td>\n",
              "      <td>PM</td>\n",
              "      <td>Mozilla/5.0 (Macintosh; Intel Mac OS X 10_8_0 ...</td>\n",
              "      <td>Williams, Marshall and Buchanan</td>\n",
              "      <td>6011578504430710</td>\n",
              "      <td>02/24</td>\n",
              "      <td>384</td>\n",
              "      <td>Discover</td>\n",
              "      <td>brent16@olson-robinson.info</td>\n",
              "      <td>Drilling engineer</td>\n",
              "      <td>30.250.74.19</td>\n",
              "      <td>es</td>\n",
              "      <td>78.04</td>\n",
              "    </tr>\n",
              "    <tr>\n",
              "      <th>4</th>\n",
              "      <td>23012 Munoz Drive Suite 337\\nNew Cynthia, TX 5...</td>\n",
              "      <td>20 IE</td>\n",
              "      <td>AM</td>\n",
              "      <td>Opera/9.58.(X11; Linux x86_64; it-IT) Presto/2...</td>\n",
              "      <td>Brown, Watson and Andrews</td>\n",
              "      <td>6011456623207998</td>\n",
              "      <td>10/25</td>\n",
              "      <td>678</td>\n",
              "      <td>Diners Club / Carte Blanche</td>\n",
              "      <td>christopherwright@gmail.com</td>\n",
              "      <td>Fine artist</td>\n",
              "      <td>24.140.33.94</td>\n",
              "      <td>es</td>\n",
              "      <td>77.82</td>\n",
              "    </tr>\n",
              "    <tr>\n",
              "      <th>5</th>\n",
              "      <td>7502 Powell Mission Apt. 768\\nTravisland, VA 3...</td>\n",
              "      <td>21 XT</td>\n",
              "      <td>PM</td>\n",
              "      <td>Mozilla/5.0 (Macintosh; U; PPC Mac OS X 10_8_5...</td>\n",
              "      <td>Silva-Anderson</td>\n",
              "      <td>30246185196287</td>\n",
              "      <td>07/25</td>\n",
              "      <td>7169</td>\n",
              "      <td>Discover</td>\n",
              "      <td>ynguyen@gmail.com</td>\n",
              "      <td>Fish farm manager</td>\n",
              "      <td>55.96.152.147</td>\n",
              "      <td>ru</td>\n",
              "      <td>25.15</td>\n",
              "    </tr>\n",
              "    <tr>\n",
              "      <th>6</th>\n",
              "      <td>93971 Conway Causeway\\nAndersonburgh, AZ 75107</td>\n",
              "      <td>96 Xt</td>\n",
              "      <td>AM</td>\n",
              "      <td>Mozilla/5.0 (compatible; MSIE 7.0; Windows NT ...</td>\n",
              "      <td>Gibson and Sons</td>\n",
              "      <td>6011398782655569</td>\n",
              "      <td>07/24</td>\n",
              "      <td>714</td>\n",
              "      <td>VISA 16 digit</td>\n",
              "      <td>olivia04@yahoo.com</td>\n",
              "      <td>Dancer</td>\n",
              "      <td>127.252.144.18</td>\n",
              "      <td>de</td>\n",
              "      <td>88.56</td>\n",
              "    </tr>\n",
              "    <tr>\n",
              "      <th>7</th>\n",
              "      <td>260 Rachel Plains Suite 366\\nCastroberg, WV 24...</td>\n",
              "      <td>96 pG</td>\n",
              "      <td>PM</td>\n",
              "      <td>Mozilla/5.0 (X11; Linux i686) AppleWebKit/5350...</td>\n",
              "      <td>Marshall-Collins</td>\n",
              "      <td>561252141909</td>\n",
              "      <td>06/25</td>\n",
              "      <td>256</td>\n",
              "      <td>VISA 13 digit</td>\n",
              "      <td>phillip48@parks.info</td>\n",
              "      <td>Event organiser</td>\n",
              "      <td>224.247.97.150</td>\n",
              "      <td>pt</td>\n",
              "      <td>44.25</td>\n",
              "    </tr>\n",
              "    <tr>\n",
              "      <th>8</th>\n",
              "      <td>2129 Dylan Burg\\nNew Michelle, ME 28650</td>\n",
              "      <td>45 JN</td>\n",
              "      <td>PM</td>\n",
              "      <td>Mozilla/5.0 (Macintosh; U; Intel Mac OS X 10_7...</td>\n",
              "      <td>Galloway and Sons</td>\n",
              "      <td>180041795790001</td>\n",
              "      <td>04/24</td>\n",
              "      <td>899</td>\n",
              "      <td>JCB 16 digit</td>\n",
              "      <td>kdavis@rasmussen.com</td>\n",
              "      <td>Financial manager</td>\n",
              "      <td>146.234.201.229</td>\n",
              "      <td>ru</td>\n",
              "      <td>59.54</td>\n",
              "    </tr>\n",
              "    <tr>\n",
              "      <th>9</th>\n",
              "      <td>3795 Dawson Extensions\\nLake Tinafort, ID 88739</td>\n",
              "      <td>15 Ug</td>\n",
              "      <td>AM</td>\n",
              "      <td>Mozilla/5.0 (X11; Linux i686; rv:1.9.7.20) Gec...</td>\n",
              "      <td>Rivera, Buchanan and Ramirez</td>\n",
              "      <td>4396283918371</td>\n",
              "      <td>01/17</td>\n",
              "      <td>931</td>\n",
              "      <td>American Express</td>\n",
              "      <td>qcoleman@hunt-huerta.com</td>\n",
              "      <td>Forensic scientist</td>\n",
              "      <td>236.198.199.8</td>\n",
              "      <td>zh</td>\n",
              "      <td>95.63</td>\n",
              "    </tr>\n",
              "  </tbody>\n",
              "</table>\n",
              "</div>\n",
              "      <button class=\"colab-df-convert\" onclick=\"convertToInteractive('df-79b0118d-4af7-4546-9084-01e6c60d2f6f')\"\n",
              "              title=\"Convert this dataframe to an interactive table.\"\n",
              "              style=\"display:none;\">\n",
              "        \n",
              "  <svg xmlns=\"http://www.w3.org/2000/svg\" height=\"24px\"viewBox=\"0 0 24 24\"\n",
              "       width=\"24px\">\n",
              "    <path d=\"M0 0h24v24H0V0z\" fill=\"none\"/>\n",
              "    <path d=\"M18.56 5.44l.94 2.06.94-2.06 2.06-.94-2.06-.94-.94-2.06-.94 2.06-2.06.94zm-11 1L8.5 8.5l.94-2.06 2.06-.94-2.06-.94L8.5 2.5l-.94 2.06-2.06.94zm10 10l.94 2.06.94-2.06 2.06-.94-2.06-.94-.94-2.06-.94 2.06-2.06.94z\"/><path d=\"M17.41 7.96l-1.37-1.37c-.4-.4-.92-.59-1.43-.59-.52 0-1.04.2-1.43.59L10.3 9.45l-7.72 7.72c-.78.78-.78 2.05 0 2.83L4 21.41c.39.39.9.59 1.41.59.51 0 1.02-.2 1.41-.59l7.78-7.78 2.81-2.81c.8-.78.8-2.07 0-2.86zM5.41 20L4 18.59l7.72-7.72 1.47 1.35L5.41 20z\"/>\n",
              "  </svg>\n",
              "      </button>\n",
              "      \n",
              "  <style>\n",
              "    .colab-df-container {\n",
              "      display:flex;\n",
              "      flex-wrap:wrap;\n",
              "      gap: 12px;\n",
              "    }\n",
              "\n",
              "    .colab-df-convert {\n",
              "      background-color: #E8F0FE;\n",
              "      border: none;\n",
              "      border-radius: 50%;\n",
              "      cursor: pointer;\n",
              "      display: none;\n",
              "      fill: #1967D2;\n",
              "      height: 32px;\n",
              "      padding: 0 0 0 0;\n",
              "      width: 32px;\n",
              "    }\n",
              "\n",
              "    .colab-df-convert:hover {\n",
              "      background-color: #E2EBFA;\n",
              "      box-shadow: 0px 1px 2px rgba(60, 64, 67, 0.3), 0px 1px 3px 1px rgba(60, 64, 67, 0.15);\n",
              "      fill: #174EA6;\n",
              "    }\n",
              "\n",
              "    [theme=dark] .colab-df-convert {\n",
              "      background-color: #3B4455;\n",
              "      fill: #D2E3FC;\n",
              "    }\n",
              "\n",
              "    [theme=dark] .colab-df-convert:hover {\n",
              "      background-color: #434B5C;\n",
              "      box-shadow: 0px 1px 3px 1px rgba(0, 0, 0, 0.15);\n",
              "      filter: drop-shadow(0px 1px 2px rgba(0, 0, 0, 0.3));\n",
              "      fill: #FFFFFF;\n",
              "    }\n",
              "  </style>\n",
              "\n",
              "      <script>\n",
              "        const buttonEl =\n",
              "          document.querySelector('#df-79b0118d-4af7-4546-9084-01e6c60d2f6f button.colab-df-convert');\n",
              "        buttonEl.style.display =\n",
              "          google.colab.kernel.accessAllowed ? 'block' : 'none';\n",
              "\n",
              "        async function convertToInteractive(key) {\n",
              "          const element = document.querySelector('#df-79b0118d-4af7-4546-9084-01e6c60d2f6f');\n",
              "          const dataTable =\n",
              "            await google.colab.kernel.invokeFunction('convertToInteractive',\n",
              "                                                     [key], {});\n",
              "          if (!dataTable) return;\n",
              "\n",
              "          const docLinkHtml = 'Like what you see? Visit the ' +\n",
              "            '<a target=\"_blank\" href=https://colab.research.google.com/notebooks/data_table.ipynb>data table notebook</a>'\n",
              "            + ' to learn more about interactive tables.';\n",
              "          element.innerHTML = '';\n",
              "          dataTable['output_type'] = 'display_data';\n",
              "          await google.colab.output.renderOutput(dataTable, element);\n",
              "          const docLink = document.createElement('div');\n",
              "          docLink.innerHTML = docLinkHtml;\n",
              "          element.appendChild(docLink);\n",
              "        }\n",
              "      </script>\n",
              "    </div>\n",
              "  </div>\n",
              "  "
            ]
          },
          "metadata": {},
          "execution_count": 85
        }
      ]
    },
    {
      "cell_type": "code",
      "source": [
        "#display the last ten rows of the dataset\n",
        "\n",
        "df.tail(10)"
      ],
      "metadata": {
        "colab": {
          "base_uri": "https://localhost:8080/",
          "height": 947
        },
        "id": "SNNoFK00FeHd",
        "outputId": "52c18fc3-38e0-41b7-a483-59bbc9cb8bdc"
      },
      "execution_count": 86,
      "outputs": [
        {
          "output_type": "execute_result",
          "data": {
            "text/plain": [
              "                                                Address    Lot AM or PM  \\\n",
              "9990  75731 Molly Springs\\nWest Danielle, VT 96934-5102  93 ty       PM   \n",
              "9991              PSC 8165, Box 8498\\nAPO AP 60327-0346  50 dA       AM   \n",
              "9992  885 Allen Mountains Apt. 230\\nWallhaven, LA 16995  40 vH       PM   \n",
              "9993  7555 Larson Locks Suite 229\\nEllisburgh, MA 34...  72 jg       PM   \n",
              "9994       6276 Rojas Hollow\\nLake Louis, WY 56410-7837  93 Ex       PM   \n",
              "9995      966 Castaneda Locks\\nWest Juliafurt, CO 96415  92 XI       PM   \n",
              "9996  832 Curtis Dam Suite 785\\nNorth Edwardburgh, T...  41 JY       AM   \n",
              "9997              Unit 4434 Box 6343\\nDPO AE 28026-0283  74 Zh       AM   \n",
              "9998               0096 English Rest\\nRoystad, IA 12457  74 cL       PM   \n",
              "9999     40674 Barrett Stravenue\\nGrimesville, WI 79682  64 Hr       AM   \n",
              "\n",
              "                                           Browser Info  \\\n",
              "9990  Mozilla/5.0 (Macintosh; Intel Mac OS X 10_7_4;...   \n",
              "9991  Mozilla/5.0 (compatible; MSIE 8.0; Windows NT ...   \n",
              "9992  Mozilla/5.0 (Macintosh; PPC Mac OS X 10_6_5) A...   \n",
              "9993  Mozilla/5.0 (Macintosh; U; Intel Mac OS X 10_8...   \n",
              "9994  Opera/9.68.(X11; Linux x86_64; sl-SI) Presto/2...   \n",
              "9995  Mozilla/5.0 (Windows NT 5.1) AppleWebKit/5352 ...   \n",
              "9996  Mozilla/5.0 (compatible; MSIE 9.0; Windows NT ...   \n",
              "9997  Mozilla/5.0 (Macintosh; U; Intel Mac OS X 10_7...   \n",
              "9998  Mozilla/5.0 (Macintosh; Intel Mac OS X 10_8_8;...   \n",
              "9999  Mozilla/5.0 (X11; Linux i686; rv:1.9.5.20) Gec...   \n",
              "\n",
              "                         Company       Credit Card CC Exp Date  \\\n",
              "9990  Pace, Vazquez and Richards   869968197049750       04/24   \n",
              "9991                  Snyder Inc  4221582137197481       02/24   \n",
              "9992                   Wells Ltd  4664825258997302       10/20   \n",
              "9993              Colon and Sons    30025560104631       10/25   \n",
              "9994                Ritter-Smith  3112186784121077       01/25   \n",
              "9995               Randall-Sloan   342945015358701       03/22   \n",
              "9996    Hale, Collins and Wilson   210033169205009       07/25   \n",
              "9997                Anderson Ltd  6011539787356311       05/21   \n",
              "9998                    Cook Inc   180003348082930       11/17   \n",
              "9999                  Greene Inc  4139972901927273       02/19   \n",
              "\n",
              "      CC Security Code       CC Provider                        Email  \\\n",
              "9990               877      JCB 15 digit  andersonmichael@sherman.biz   \n",
              "9991               969           Voyager           kking@wise-liu.com   \n",
              "9992               431          Discover            bberry@wright.net   \n",
              "9993               629           Maestro    chelseawilliams@lopez.biz   \n",
              "9994              1823           Maestro           iroberts@gmail.com   \n",
              "9995               838      JCB 15 digit       iscott@wade-garner.com   \n",
              "9996               207      JCB 16 digit           mary85@hotmail.com   \n",
              "9997                 1     VISA 16 digit            tyler16@gmail.com   \n",
              "9998               987  American Express      elizabethmoore@reid.net   \n",
              "9999               302      JCB 15 digit        rachelford@vaughn.com   \n",
              "\n",
              "                               Job       IP Address Language  Purchase Price  \n",
              "9990           Early years teacher     54.170.3.185       ru           18.35  \n",
              "9991         IT sales professional    254.25.31.156       el           25.93  \n",
              "9992                  Set designer    174.173.51.32       de           67.96  \n",
              "9993  Designer, exhibition/display    177.46.82.128       el           65.61  \n",
              "9994     Education officer, museum    242.44.112.18       zh           31.85  \n",
              "9995                    Printmaker    29.73.197.114       it           82.21  \n",
              "9996               Energy engineer   121.133.168.51       pt           25.63  \n",
              "9997            Veterinary surgeon    156.210.0.254       el           83.98  \n",
              "9998      Local government officer     55.78.26.143       es           38.84  \n",
              "9999        Embryologist, clinical  176.119.198.199       el           67.59  "
            ],
            "text/html": [
              "\n",
              "  <div id=\"df-24832bf8-a050-4513-870a-8955e3cf9c6f\">\n",
              "    <div class=\"colab-df-container\">\n",
              "      <div>\n",
              "<style scoped>\n",
              "    .dataframe tbody tr th:only-of-type {\n",
              "        vertical-align: middle;\n",
              "    }\n",
              "\n",
              "    .dataframe tbody tr th {\n",
              "        vertical-align: top;\n",
              "    }\n",
              "\n",
              "    .dataframe thead th {\n",
              "        text-align: right;\n",
              "    }\n",
              "</style>\n",
              "<table border=\"1\" class=\"dataframe\">\n",
              "  <thead>\n",
              "    <tr style=\"text-align: right;\">\n",
              "      <th></th>\n",
              "      <th>Address</th>\n",
              "      <th>Lot</th>\n",
              "      <th>AM or PM</th>\n",
              "      <th>Browser Info</th>\n",
              "      <th>Company</th>\n",
              "      <th>Credit Card</th>\n",
              "      <th>CC Exp Date</th>\n",
              "      <th>CC Security Code</th>\n",
              "      <th>CC Provider</th>\n",
              "      <th>Email</th>\n",
              "      <th>Job</th>\n",
              "      <th>IP Address</th>\n",
              "      <th>Language</th>\n",
              "      <th>Purchase Price</th>\n",
              "    </tr>\n",
              "  </thead>\n",
              "  <tbody>\n",
              "    <tr>\n",
              "      <th>9990</th>\n",
              "      <td>75731 Molly Springs\\nWest Danielle, VT 96934-5102</td>\n",
              "      <td>93 ty</td>\n",
              "      <td>PM</td>\n",
              "      <td>Mozilla/5.0 (Macintosh; Intel Mac OS X 10_7_4;...</td>\n",
              "      <td>Pace, Vazquez and Richards</td>\n",
              "      <td>869968197049750</td>\n",
              "      <td>04/24</td>\n",
              "      <td>877</td>\n",
              "      <td>JCB 15 digit</td>\n",
              "      <td>andersonmichael@sherman.biz</td>\n",
              "      <td>Early years teacher</td>\n",
              "      <td>54.170.3.185</td>\n",
              "      <td>ru</td>\n",
              "      <td>18.35</td>\n",
              "    </tr>\n",
              "    <tr>\n",
              "      <th>9991</th>\n",
              "      <td>PSC 8165, Box 8498\\nAPO AP 60327-0346</td>\n",
              "      <td>50 dA</td>\n",
              "      <td>AM</td>\n",
              "      <td>Mozilla/5.0 (compatible; MSIE 8.0; Windows NT ...</td>\n",
              "      <td>Snyder Inc</td>\n",
              "      <td>4221582137197481</td>\n",
              "      <td>02/24</td>\n",
              "      <td>969</td>\n",
              "      <td>Voyager</td>\n",
              "      <td>kking@wise-liu.com</td>\n",
              "      <td>IT sales professional</td>\n",
              "      <td>254.25.31.156</td>\n",
              "      <td>el</td>\n",
              "      <td>25.93</td>\n",
              "    </tr>\n",
              "    <tr>\n",
              "      <th>9992</th>\n",
              "      <td>885 Allen Mountains Apt. 230\\nWallhaven, LA 16995</td>\n",
              "      <td>40 vH</td>\n",
              "      <td>PM</td>\n",
              "      <td>Mozilla/5.0 (Macintosh; PPC Mac OS X 10_6_5) A...</td>\n",
              "      <td>Wells Ltd</td>\n",
              "      <td>4664825258997302</td>\n",
              "      <td>10/20</td>\n",
              "      <td>431</td>\n",
              "      <td>Discover</td>\n",
              "      <td>bberry@wright.net</td>\n",
              "      <td>Set designer</td>\n",
              "      <td>174.173.51.32</td>\n",
              "      <td>de</td>\n",
              "      <td>67.96</td>\n",
              "    </tr>\n",
              "    <tr>\n",
              "      <th>9993</th>\n",
              "      <td>7555 Larson Locks Suite 229\\nEllisburgh, MA 34...</td>\n",
              "      <td>72 jg</td>\n",
              "      <td>PM</td>\n",
              "      <td>Mozilla/5.0 (Macintosh; U; Intel Mac OS X 10_8...</td>\n",
              "      <td>Colon and Sons</td>\n",
              "      <td>30025560104631</td>\n",
              "      <td>10/25</td>\n",
              "      <td>629</td>\n",
              "      <td>Maestro</td>\n",
              "      <td>chelseawilliams@lopez.biz</td>\n",
              "      <td>Designer, exhibition/display</td>\n",
              "      <td>177.46.82.128</td>\n",
              "      <td>el</td>\n",
              "      <td>65.61</td>\n",
              "    </tr>\n",
              "    <tr>\n",
              "      <th>9994</th>\n",
              "      <td>6276 Rojas Hollow\\nLake Louis, WY 56410-7837</td>\n",
              "      <td>93 Ex</td>\n",
              "      <td>PM</td>\n",
              "      <td>Opera/9.68.(X11; Linux x86_64; sl-SI) Presto/2...</td>\n",
              "      <td>Ritter-Smith</td>\n",
              "      <td>3112186784121077</td>\n",
              "      <td>01/25</td>\n",
              "      <td>1823</td>\n",
              "      <td>Maestro</td>\n",
              "      <td>iroberts@gmail.com</td>\n",
              "      <td>Education officer, museum</td>\n",
              "      <td>242.44.112.18</td>\n",
              "      <td>zh</td>\n",
              "      <td>31.85</td>\n",
              "    </tr>\n",
              "    <tr>\n",
              "      <th>9995</th>\n",
              "      <td>966 Castaneda Locks\\nWest Juliafurt, CO 96415</td>\n",
              "      <td>92 XI</td>\n",
              "      <td>PM</td>\n",
              "      <td>Mozilla/5.0 (Windows NT 5.1) AppleWebKit/5352 ...</td>\n",
              "      <td>Randall-Sloan</td>\n",
              "      <td>342945015358701</td>\n",
              "      <td>03/22</td>\n",
              "      <td>838</td>\n",
              "      <td>JCB 15 digit</td>\n",
              "      <td>iscott@wade-garner.com</td>\n",
              "      <td>Printmaker</td>\n",
              "      <td>29.73.197.114</td>\n",
              "      <td>it</td>\n",
              "      <td>82.21</td>\n",
              "    </tr>\n",
              "    <tr>\n",
              "      <th>9996</th>\n",
              "      <td>832 Curtis Dam Suite 785\\nNorth Edwardburgh, T...</td>\n",
              "      <td>41 JY</td>\n",
              "      <td>AM</td>\n",
              "      <td>Mozilla/5.0 (compatible; MSIE 9.0; Windows NT ...</td>\n",
              "      <td>Hale, Collins and Wilson</td>\n",
              "      <td>210033169205009</td>\n",
              "      <td>07/25</td>\n",
              "      <td>207</td>\n",
              "      <td>JCB 16 digit</td>\n",
              "      <td>mary85@hotmail.com</td>\n",
              "      <td>Energy engineer</td>\n",
              "      <td>121.133.168.51</td>\n",
              "      <td>pt</td>\n",
              "      <td>25.63</td>\n",
              "    </tr>\n",
              "    <tr>\n",
              "      <th>9997</th>\n",
              "      <td>Unit 4434 Box 6343\\nDPO AE 28026-0283</td>\n",
              "      <td>74 Zh</td>\n",
              "      <td>AM</td>\n",
              "      <td>Mozilla/5.0 (Macintosh; U; Intel Mac OS X 10_7...</td>\n",
              "      <td>Anderson Ltd</td>\n",
              "      <td>6011539787356311</td>\n",
              "      <td>05/21</td>\n",
              "      <td>1</td>\n",
              "      <td>VISA 16 digit</td>\n",
              "      <td>tyler16@gmail.com</td>\n",
              "      <td>Veterinary surgeon</td>\n",
              "      <td>156.210.0.254</td>\n",
              "      <td>el</td>\n",
              "      <td>83.98</td>\n",
              "    </tr>\n",
              "    <tr>\n",
              "      <th>9998</th>\n",
              "      <td>0096 English Rest\\nRoystad, IA 12457</td>\n",
              "      <td>74 cL</td>\n",
              "      <td>PM</td>\n",
              "      <td>Mozilla/5.0 (Macintosh; Intel Mac OS X 10_8_8;...</td>\n",
              "      <td>Cook Inc</td>\n",
              "      <td>180003348082930</td>\n",
              "      <td>11/17</td>\n",
              "      <td>987</td>\n",
              "      <td>American Express</td>\n",
              "      <td>elizabethmoore@reid.net</td>\n",
              "      <td>Local government officer</td>\n",
              "      <td>55.78.26.143</td>\n",
              "      <td>es</td>\n",
              "      <td>38.84</td>\n",
              "    </tr>\n",
              "    <tr>\n",
              "      <th>9999</th>\n",
              "      <td>40674 Barrett Stravenue\\nGrimesville, WI 79682</td>\n",
              "      <td>64 Hr</td>\n",
              "      <td>AM</td>\n",
              "      <td>Mozilla/5.0 (X11; Linux i686; rv:1.9.5.20) Gec...</td>\n",
              "      <td>Greene Inc</td>\n",
              "      <td>4139972901927273</td>\n",
              "      <td>02/19</td>\n",
              "      <td>302</td>\n",
              "      <td>JCB 15 digit</td>\n",
              "      <td>rachelford@vaughn.com</td>\n",
              "      <td>Embryologist, clinical</td>\n",
              "      <td>176.119.198.199</td>\n",
              "      <td>el</td>\n",
              "      <td>67.59</td>\n",
              "    </tr>\n",
              "  </tbody>\n",
              "</table>\n",
              "</div>\n",
              "      <button class=\"colab-df-convert\" onclick=\"convertToInteractive('df-24832bf8-a050-4513-870a-8955e3cf9c6f')\"\n",
              "              title=\"Convert this dataframe to an interactive table.\"\n",
              "              style=\"display:none;\">\n",
              "        \n",
              "  <svg xmlns=\"http://www.w3.org/2000/svg\" height=\"24px\"viewBox=\"0 0 24 24\"\n",
              "       width=\"24px\">\n",
              "    <path d=\"M0 0h24v24H0V0z\" fill=\"none\"/>\n",
              "    <path d=\"M18.56 5.44l.94 2.06.94-2.06 2.06-.94-2.06-.94-.94-2.06-.94 2.06-2.06.94zm-11 1L8.5 8.5l.94-2.06 2.06-.94-2.06-.94L8.5 2.5l-.94 2.06-2.06.94zm10 10l.94 2.06.94-2.06 2.06-.94-2.06-.94-.94-2.06-.94 2.06-2.06.94z\"/><path d=\"M17.41 7.96l-1.37-1.37c-.4-.4-.92-.59-1.43-.59-.52 0-1.04.2-1.43.59L10.3 9.45l-7.72 7.72c-.78.78-.78 2.05 0 2.83L4 21.41c.39.39.9.59 1.41.59.51 0 1.02-.2 1.41-.59l7.78-7.78 2.81-2.81c.8-.78.8-2.07 0-2.86zM5.41 20L4 18.59l7.72-7.72 1.47 1.35L5.41 20z\"/>\n",
              "  </svg>\n",
              "      </button>\n",
              "      \n",
              "  <style>\n",
              "    .colab-df-container {\n",
              "      display:flex;\n",
              "      flex-wrap:wrap;\n",
              "      gap: 12px;\n",
              "    }\n",
              "\n",
              "    .colab-df-convert {\n",
              "      background-color: #E8F0FE;\n",
              "      border: none;\n",
              "      border-radius: 50%;\n",
              "      cursor: pointer;\n",
              "      display: none;\n",
              "      fill: #1967D2;\n",
              "      height: 32px;\n",
              "      padding: 0 0 0 0;\n",
              "      width: 32px;\n",
              "    }\n",
              "\n",
              "    .colab-df-convert:hover {\n",
              "      background-color: #E2EBFA;\n",
              "      box-shadow: 0px 1px 2px rgba(60, 64, 67, 0.3), 0px 1px 3px 1px rgba(60, 64, 67, 0.15);\n",
              "      fill: #174EA6;\n",
              "    }\n",
              "\n",
              "    [theme=dark] .colab-df-convert {\n",
              "      background-color: #3B4455;\n",
              "      fill: #D2E3FC;\n",
              "    }\n",
              "\n",
              "    [theme=dark] .colab-df-convert:hover {\n",
              "      background-color: #434B5C;\n",
              "      box-shadow: 0px 1px 3px 1px rgba(0, 0, 0, 0.15);\n",
              "      filter: drop-shadow(0px 1px 2px rgba(0, 0, 0, 0.3));\n",
              "      fill: #FFFFFF;\n",
              "    }\n",
              "  </style>\n",
              "\n",
              "      <script>\n",
              "        const buttonEl =\n",
              "          document.querySelector('#df-24832bf8-a050-4513-870a-8955e3cf9c6f button.colab-df-convert');\n",
              "        buttonEl.style.display =\n",
              "          google.colab.kernel.accessAllowed ? 'block' : 'none';\n",
              "\n",
              "        async function convertToInteractive(key) {\n",
              "          const element = document.querySelector('#df-24832bf8-a050-4513-870a-8955e3cf9c6f');\n",
              "          const dataTable =\n",
              "            await google.colab.kernel.invokeFunction('convertToInteractive',\n",
              "                                                     [key], {});\n",
              "          if (!dataTable) return;\n",
              "\n",
              "          const docLinkHtml = 'Like what you see? Visit the ' +\n",
              "            '<a target=\"_blank\" href=https://colab.research.google.com/notebooks/data_table.ipynb>data table notebook</a>'\n",
              "            + ' to learn more about interactive tables.';\n",
              "          element.innerHTML = '';\n",
              "          dataTable['output_type'] = 'display_data';\n",
              "          await google.colab.output.renderOutput(dataTable, element);\n",
              "          const docLink = document.createElement('div');\n",
              "          docLink.innerHTML = docLinkHtml;\n",
              "          element.appendChild(docLink);\n",
              "        }\n",
              "      </script>\n",
              "    </div>\n",
              "  </div>\n",
              "  "
            ]
          },
          "metadata": {},
          "execution_count": 86
        }
      ]
    },
    {
      "cell_type": "code",
      "source": [
        "#check the datatype of each coloumn\n",
        "\n",
        "df.dtypes"
      ],
      "metadata": {
        "colab": {
          "base_uri": "https://localhost:8080/"
        },
        "id": "wEF2-Wo3Fr4G",
        "outputId": "3f11d48b-6abe-4a60-c722-8dd833f34c58"
      },
      "execution_count": 87,
      "outputs": [
        {
          "output_type": "execute_result",
          "data": {
            "text/plain": [
              "Address              object\n",
              "Lot                  object\n",
              "AM or PM             object\n",
              "Browser Info         object\n",
              "Company              object\n",
              "Credit Card           int64\n",
              "CC Exp Date          object\n",
              "CC Security Code      int64\n",
              "CC Provider          object\n",
              "Email                object\n",
              "Job                  object\n",
              "IP Address           object\n",
              "Language             object\n",
              "Purchase Price      float64\n",
              "dtype: object"
            ]
          },
          "metadata": {},
          "execution_count": 87
        }
      ]
    },
    {
      "cell_type": "code",
      "source": [
        "#checking the number of null values in the dataset\n",
        "\n",
        "df.isnull().sum()"
      ],
      "metadata": {
        "colab": {
          "base_uri": "https://localhost:8080/"
        },
        "id": "eKyak1cjFuHV",
        "outputId": "0fd81606-a975-4dce-b7f3-4486f27c3143"
      },
      "execution_count": 88,
      "outputs": [
        {
          "output_type": "execute_result",
          "data": {
            "text/plain": [
              "Address             0\n",
              "Lot                 0\n",
              "AM or PM            0\n",
              "Browser Info        0\n",
              "Company             0\n",
              "Credit Card         0\n",
              "CC Exp Date         0\n",
              "CC Security Code    0\n",
              "CC Provider         0\n",
              "Email               0\n",
              "Job                 0\n",
              "IP Address          0\n",
              "Language            0\n",
              "Purchase Price      0\n",
              "dtype: int64"
            ]
          },
          "metadata": {},
          "execution_count": 88
        }
      ]
    },
    {
      "cell_type": "code",
      "source": [
        "#check null values in a particular column in the dataset\n",
        "\n",
        "df['Purchase Price'].isnull().sum()"
      ],
      "metadata": {
        "colab": {
          "base_uri": "https://localhost:8080/"
        },
        "id": "-CfhCIemF7Ne",
        "outputId": "301465ae-4149-42ec-a2e5-c0a6b26e2be1"
      },
      "execution_count": 89,
      "outputs": [
        {
          "output_type": "execute_result",
          "data": {
            "text/plain": [
              "0"
            ]
          },
          "metadata": {},
          "execution_count": 89
        }
      ]
    },
    {
      "cell_type": "code",
      "source": [
        "#check the number of rows and columns in the dataset\n",
        "df.shape"
      ],
      "metadata": {
        "colab": {
          "base_uri": "https://localhost:8080/"
        },
        "id": "7j3GFIRZGDdT",
        "outputId": "37120b2b-277f-4006-aed7-0046c2b0b4ca"
      },
      "execution_count": 90,
      "outputs": [
        {
          "output_type": "execute_result",
          "data": {
            "text/plain": [
              "(10000, 14)"
            ]
          },
          "metadata": {},
          "execution_count": 90
        }
      ]
    },
    {
      "cell_type": "code",
      "source": [
        "#just check the number of rows in the dataset\n",
        "len(df)"
      ],
      "metadata": {
        "colab": {
          "base_uri": "https://localhost:8080/"
        },
        "id": "0a_YzkGQGjqJ",
        "outputId": "0df82661-38f0-4ccd-f24f-0d164cacd595"
      },
      "execution_count": 91,
      "outputs": [
        {
          "output_type": "execute_result",
          "data": {
            "text/plain": [
              "10000"
            ]
          },
          "metadata": {},
          "execution_count": 91
        }
      ]
    },
    {
      "cell_type": "code",
      "source": [
        "#just check the number of columns in the dataset\n",
        "len(df.columns)"
      ],
      "metadata": {
        "colab": {
          "base_uri": "https://localhost:8080/"
        },
        "id": "HgIqIzdWGs-n",
        "outputId": "7ca21c02-8e4c-4140-f95e-99c8b2f24700"
      },
      "execution_count": 92,
      "outputs": [
        {
          "output_type": "execute_result",
          "data": {
            "text/plain": [
              "14"
            ]
          },
          "metadata": {},
          "execution_count": 92
        }
      ]
    },
    {
      "cell_type": "code",
      "source": [
        "#display the information of the dataset\n",
        "df.info()"
      ],
      "metadata": {
        "colab": {
          "base_uri": "https://localhost:8080/"
        },
        "id": "_GBtSv2JGy0P",
        "outputId": "02c96217-573a-4d50-b0d9-3c9e5c0762bf"
      },
      "execution_count": 93,
      "outputs": [
        {
          "output_type": "stream",
          "name": "stdout",
          "text": [
            "<class 'pandas.core.frame.DataFrame'>\n",
            "RangeIndex: 10000 entries, 0 to 9999\n",
            "Data columns (total 14 columns):\n",
            " #   Column            Non-Null Count  Dtype  \n",
            "---  ------            --------------  -----  \n",
            " 0   Address           10000 non-null  object \n",
            " 1   Lot               10000 non-null  object \n",
            " 2   AM or PM          10000 non-null  object \n",
            " 3   Browser Info      10000 non-null  object \n",
            " 4   Company           10000 non-null  object \n",
            " 5   Credit Card       10000 non-null  int64  \n",
            " 6   CC Exp Date       10000 non-null  object \n",
            " 7   CC Security Code  10000 non-null  int64  \n",
            " 8   CC Provider       10000 non-null  object \n",
            " 9   Email             10000 non-null  object \n",
            " 10  Job               10000 non-null  object \n",
            " 11  IP Address        10000 non-null  object \n",
            " 12  Language          10000 non-null  object \n",
            " 13  Purchase Price    10000 non-null  float64\n",
            "dtypes: float64(1), int64(2), object(11)\n",
            "memory usage: 1.1+ MB\n"
          ]
        }
      ]
    },
    {
      "cell_type": "code",
      "source": [
        "#retreive the highest purchase value from the dataset \n",
        "sorted_descending = df.sort_values('Purchase Price', ascending = False).reset_index()"
      ],
      "metadata": {
        "id": "gFMiQGSqG4H4"
      },
      "execution_count": 94,
      "outputs": []
    },
    {
      "cell_type": "code",
      "source": [
        "sorted_descending.loc[0]"
      ],
      "metadata": {
        "colab": {
          "base_uri": "https://localhost:8080/"
        },
        "id": "etGZv7OJLlc2",
        "outputId": "1d617aa1-5e09-4bde-cb57-852e23a74b14"
      },
      "execution_count": 95,
      "outputs": [
        {
          "output_type": "execute_result",
          "data": {
            "text/plain": [
              "index                                                            2092\n",
              "Address                     63773 Shelton Greens\\nAshleyton, MA 00493\n",
              "Lot                                                             56 lu\n",
              "AM or PM                                                           AM\n",
              "Browser Info        Mozilla/5.0 (X11; Linux x86_64) AppleWebKit/53...\n",
              "Company                                                   Pitts Group\n",
              "Credit Card                                             4292741269160\n",
              "CC Exp Date                                                     06/18\n",
              "CC Security Code                                                  824\n",
              "CC Provider                                                   Maestro\n",
              "Email                                        heatherwoodard@lloyd.com\n",
              "Job                                            Surveyor, hydrographic\n",
              "IP Address                                            172.197.216.229\n",
              "Language                                                           el\n",
              "Purchase Price                                                  99.99\n",
              "Name: 0, dtype: object"
            ]
          },
          "metadata": {},
          "execution_count": 95
        }
      ]
    },
    {
      "cell_type": "code",
      "source": [
        "#another way to get the highest value of a particular column from the dataset\n",
        "\n",
        "df['Purchase Price'].max()"
      ],
      "metadata": {
        "colab": {
          "base_uri": "https://localhost:8080/"
        },
        "id": "m8bwvd0uL4LP",
        "outputId": "fcdd9b74-f171-4092-e73f-4b511f6f7d47"
      },
      "execution_count": 96,
      "outputs": [
        {
          "output_type": "execute_result",
          "data": {
            "text/plain": [
              "99.99"
            ]
          },
          "metadata": {},
          "execution_count": 96
        }
      ]
    },
    {
      "cell_type": "code",
      "source": [
        "#get the lowest value of a particular column in the dataset\n",
        "\n",
        "sorted_ascending = df.sort_values('Purchase Price', ascending = True).reset_index()"
      ],
      "metadata": {
        "id": "2T-GxAWvMfMs"
      },
      "execution_count": 97,
      "outputs": []
    },
    {
      "cell_type": "code",
      "source": [
        "sorted_ascending.head(5)"
      ],
      "metadata": {
        "colab": {
          "base_uri": "https://localhost:8080/",
          "height": 597
        },
        "id": "_X0Xn2fEM3QG",
        "outputId": "e798ae95-7708-4a68-cc4a-7903bd8676eb"
      },
      "execution_count": 98,
      "outputs": [
        {
          "output_type": "execute_result",
          "data": {
            "text/plain": [
              "   index                                            Address    Lot AM or PM  \\\n",
              "0   5487     465 Mallory Ways\\nNorth Rebecca, RI 82734-1160  93 OH       PM   \n",
              "1   2876  332 Jones Parkways\\nEast Katherineville, GA 64230  39 GT       AM   \n",
              "2   6863     9202 Baker Forks\\nNew Chelseaborough, VA 70852  40 Vx       AM   \n",
              "3   8656          146 Laura Mission\\nNorth Donald, NC 76608  95 xb       PM   \n",
              "4   2783  402 Joseph Tunnel Apt. 219\\nMartinmouth, DE 58480  46 Yg       AM   \n",
              "\n",
              "                                        Browser Info                Company  \\\n",
              "0  Mozilla/5.0 (X11; Linux i686; rv:1.9.6.20) Gec...         Flynn and Sons   \n",
              "1  Mozilla/5.0 (Macintosh; U; PPC Mac OS X 10_6_9...  Lyons, Diaz and Clark   \n",
              "2  Mozilla/5.0 (iPod; U; CPU iPhone OS 3_3 like M...     Sanchez-Stephenson   \n",
              "3  Mozilla/5.0 (Macintosh; Intel Mac OS X 10_7_2 ...          Armstrong PLC   \n",
              "4  Mozilla/5.0 (Macintosh; U; Intel Mac OS X 10_7...           Wagner Group   \n",
              "\n",
              "        Credit Card CC Exp Date  CC Security Code    CC Provider  \\\n",
              "0    30469912089738       09/23               236       Discover   \n",
              "1  4204500444841766       01/18                38  VISA 16 digit   \n",
              "2  4759624285678506       08/18               600  VISA 16 digit   \n",
              "3   341024981858937       06/19               217       Discover   \n",
              "4  4720459683484280       08/21               866     Mastercard   \n",
              "\n",
              "                   Email                                    Job  \\\n",
              "0    mjohnson@austin.org                          Stage manager   \n",
              "1   jennifer11@baker.com                   Biomedical scientist   \n",
              "2   leesabrina@rojas.com             Television camera operator   \n",
              "3     rramsey@oliver.com  Product/process development scientist   \n",
              "4  emilypotter@yahoo.com                             IT trainer   \n",
              "\n",
              "       IP Address Language  Purchase Price  \n",
              "0     43.99.56.59       zh            0.00  \n",
              "1  223.47.177.174       it            0.00  \n",
              "2  143.139.184.18       es            0.01  \n",
              "3    66.97.84.200       ru            0.02  \n",
              "4    69.92.84.253       de            0.02  "
            ],
            "text/html": [
              "\n",
              "  <div id=\"df-39d3865f-e7b5-46cf-926e-f93ab44c6652\">\n",
              "    <div class=\"colab-df-container\">\n",
              "      <div>\n",
              "<style scoped>\n",
              "    .dataframe tbody tr th:only-of-type {\n",
              "        vertical-align: middle;\n",
              "    }\n",
              "\n",
              "    .dataframe tbody tr th {\n",
              "        vertical-align: top;\n",
              "    }\n",
              "\n",
              "    .dataframe thead th {\n",
              "        text-align: right;\n",
              "    }\n",
              "</style>\n",
              "<table border=\"1\" class=\"dataframe\">\n",
              "  <thead>\n",
              "    <tr style=\"text-align: right;\">\n",
              "      <th></th>\n",
              "      <th>index</th>\n",
              "      <th>Address</th>\n",
              "      <th>Lot</th>\n",
              "      <th>AM or PM</th>\n",
              "      <th>Browser Info</th>\n",
              "      <th>Company</th>\n",
              "      <th>Credit Card</th>\n",
              "      <th>CC Exp Date</th>\n",
              "      <th>CC Security Code</th>\n",
              "      <th>CC Provider</th>\n",
              "      <th>Email</th>\n",
              "      <th>Job</th>\n",
              "      <th>IP Address</th>\n",
              "      <th>Language</th>\n",
              "      <th>Purchase Price</th>\n",
              "    </tr>\n",
              "  </thead>\n",
              "  <tbody>\n",
              "    <tr>\n",
              "      <th>0</th>\n",
              "      <td>5487</td>\n",
              "      <td>465 Mallory Ways\\nNorth Rebecca, RI 82734-1160</td>\n",
              "      <td>93 OH</td>\n",
              "      <td>PM</td>\n",
              "      <td>Mozilla/5.0 (X11; Linux i686; rv:1.9.6.20) Gec...</td>\n",
              "      <td>Flynn and Sons</td>\n",
              "      <td>30469912089738</td>\n",
              "      <td>09/23</td>\n",
              "      <td>236</td>\n",
              "      <td>Discover</td>\n",
              "      <td>mjohnson@austin.org</td>\n",
              "      <td>Stage manager</td>\n",
              "      <td>43.99.56.59</td>\n",
              "      <td>zh</td>\n",
              "      <td>0.00</td>\n",
              "    </tr>\n",
              "    <tr>\n",
              "      <th>1</th>\n",
              "      <td>2876</td>\n",
              "      <td>332 Jones Parkways\\nEast Katherineville, GA 64230</td>\n",
              "      <td>39 GT</td>\n",
              "      <td>AM</td>\n",
              "      <td>Mozilla/5.0 (Macintosh; U; PPC Mac OS X 10_6_9...</td>\n",
              "      <td>Lyons, Diaz and Clark</td>\n",
              "      <td>4204500444841766</td>\n",
              "      <td>01/18</td>\n",
              "      <td>38</td>\n",
              "      <td>VISA 16 digit</td>\n",
              "      <td>jennifer11@baker.com</td>\n",
              "      <td>Biomedical scientist</td>\n",
              "      <td>223.47.177.174</td>\n",
              "      <td>it</td>\n",
              "      <td>0.00</td>\n",
              "    </tr>\n",
              "    <tr>\n",
              "      <th>2</th>\n",
              "      <td>6863</td>\n",
              "      <td>9202 Baker Forks\\nNew Chelseaborough, VA 70852</td>\n",
              "      <td>40 Vx</td>\n",
              "      <td>AM</td>\n",
              "      <td>Mozilla/5.0 (iPod; U; CPU iPhone OS 3_3 like M...</td>\n",
              "      <td>Sanchez-Stephenson</td>\n",
              "      <td>4759624285678506</td>\n",
              "      <td>08/18</td>\n",
              "      <td>600</td>\n",
              "      <td>VISA 16 digit</td>\n",
              "      <td>leesabrina@rojas.com</td>\n",
              "      <td>Television camera operator</td>\n",
              "      <td>143.139.184.18</td>\n",
              "      <td>es</td>\n",
              "      <td>0.01</td>\n",
              "    </tr>\n",
              "    <tr>\n",
              "      <th>3</th>\n",
              "      <td>8656</td>\n",
              "      <td>146 Laura Mission\\nNorth Donald, NC 76608</td>\n",
              "      <td>95 xb</td>\n",
              "      <td>PM</td>\n",
              "      <td>Mozilla/5.0 (Macintosh; Intel Mac OS X 10_7_2 ...</td>\n",
              "      <td>Armstrong PLC</td>\n",
              "      <td>341024981858937</td>\n",
              "      <td>06/19</td>\n",
              "      <td>217</td>\n",
              "      <td>Discover</td>\n",
              "      <td>rramsey@oliver.com</td>\n",
              "      <td>Product/process development scientist</td>\n",
              "      <td>66.97.84.200</td>\n",
              "      <td>ru</td>\n",
              "      <td>0.02</td>\n",
              "    </tr>\n",
              "    <tr>\n",
              "      <th>4</th>\n",
              "      <td>2783</td>\n",
              "      <td>402 Joseph Tunnel Apt. 219\\nMartinmouth, DE 58480</td>\n",
              "      <td>46 Yg</td>\n",
              "      <td>AM</td>\n",
              "      <td>Mozilla/5.0 (Macintosh; U; Intel Mac OS X 10_7...</td>\n",
              "      <td>Wagner Group</td>\n",
              "      <td>4720459683484280</td>\n",
              "      <td>08/21</td>\n",
              "      <td>866</td>\n",
              "      <td>Mastercard</td>\n",
              "      <td>emilypotter@yahoo.com</td>\n",
              "      <td>IT trainer</td>\n",
              "      <td>69.92.84.253</td>\n",
              "      <td>de</td>\n",
              "      <td>0.02</td>\n",
              "    </tr>\n",
              "  </tbody>\n",
              "</table>\n",
              "</div>\n",
              "      <button class=\"colab-df-convert\" onclick=\"convertToInteractive('df-39d3865f-e7b5-46cf-926e-f93ab44c6652')\"\n",
              "              title=\"Convert this dataframe to an interactive table.\"\n",
              "              style=\"display:none;\">\n",
              "        \n",
              "  <svg xmlns=\"http://www.w3.org/2000/svg\" height=\"24px\"viewBox=\"0 0 24 24\"\n",
              "       width=\"24px\">\n",
              "    <path d=\"M0 0h24v24H0V0z\" fill=\"none\"/>\n",
              "    <path d=\"M18.56 5.44l.94 2.06.94-2.06 2.06-.94-2.06-.94-.94-2.06-.94 2.06-2.06.94zm-11 1L8.5 8.5l.94-2.06 2.06-.94-2.06-.94L8.5 2.5l-.94 2.06-2.06.94zm10 10l.94 2.06.94-2.06 2.06-.94-2.06-.94-.94-2.06-.94 2.06-2.06.94z\"/><path d=\"M17.41 7.96l-1.37-1.37c-.4-.4-.92-.59-1.43-.59-.52 0-1.04.2-1.43.59L10.3 9.45l-7.72 7.72c-.78.78-.78 2.05 0 2.83L4 21.41c.39.39.9.59 1.41.59.51 0 1.02-.2 1.41-.59l7.78-7.78 2.81-2.81c.8-.78.8-2.07 0-2.86zM5.41 20L4 18.59l7.72-7.72 1.47 1.35L5.41 20z\"/>\n",
              "  </svg>\n",
              "      </button>\n",
              "      \n",
              "  <style>\n",
              "    .colab-df-container {\n",
              "      display:flex;\n",
              "      flex-wrap:wrap;\n",
              "      gap: 12px;\n",
              "    }\n",
              "\n",
              "    .colab-df-convert {\n",
              "      background-color: #E8F0FE;\n",
              "      border: none;\n",
              "      border-radius: 50%;\n",
              "      cursor: pointer;\n",
              "      display: none;\n",
              "      fill: #1967D2;\n",
              "      height: 32px;\n",
              "      padding: 0 0 0 0;\n",
              "      width: 32px;\n",
              "    }\n",
              "\n",
              "    .colab-df-convert:hover {\n",
              "      background-color: #E2EBFA;\n",
              "      box-shadow: 0px 1px 2px rgba(60, 64, 67, 0.3), 0px 1px 3px 1px rgba(60, 64, 67, 0.15);\n",
              "      fill: #174EA6;\n",
              "    }\n",
              "\n",
              "    [theme=dark] .colab-df-convert {\n",
              "      background-color: #3B4455;\n",
              "      fill: #D2E3FC;\n",
              "    }\n",
              "\n",
              "    [theme=dark] .colab-df-convert:hover {\n",
              "      background-color: #434B5C;\n",
              "      box-shadow: 0px 1px 3px 1px rgba(0, 0, 0, 0.15);\n",
              "      filter: drop-shadow(0px 1px 2px rgba(0, 0, 0, 0.3));\n",
              "      fill: #FFFFFF;\n",
              "    }\n",
              "  </style>\n",
              "\n",
              "      <script>\n",
              "        const buttonEl =\n",
              "          document.querySelector('#df-39d3865f-e7b5-46cf-926e-f93ab44c6652 button.colab-df-convert');\n",
              "        buttonEl.style.display =\n",
              "          google.colab.kernel.accessAllowed ? 'block' : 'none';\n",
              "\n",
              "        async function convertToInteractive(key) {\n",
              "          const element = document.querySelector('#df-39d3865f-e7b5-46cf-926e-f93ab44c6652');\n",
              "          const dataTable =\n",
              "            await google.colab.kernel.invokeFunction('convertToInteractive',\n",
              "                                                     [key], {});\n",
              "          if (!dataTable) return;\n",
              "\n",
              "          const docLinkHtml = 'Like what you see? Visit the ' +\n",
              "            '<a target=\"_blank\" href=https://colab.research.google.com/notebooks/data_table.ipynb>data table notebook</a>'\n",
              "            + ' to learn more about interactive tables.';\n",
              "          element.innerHTML = '';\n",
              "          dataTable['output_type'] = 'display_data';\n",
              "          await google.colab.output.renderOutput(dataTable, element);\n",
              "          const docLink = document.createElement('div');\n",
              "          docLink.innerHTML = docLinkHtml;\n",
              "          element.appendChild(docLink);\n",
              "        }\n",
              "      </script>\n",
              "    </div>\n",
              "  </div>\n",
              "  "
            ]
          },
          "metadata": {},
          "execution_count": 98
        }
      ]
    },
    {
      "cell_type": "code",
      "source": [
        "sorted_ascending.loc[0]"
      ],
      "metadata": {
        "colab": {
          "base_uri": "https://localhost:8080/"
        },
        "id": "6qGP8ihgM72q",
        "outputId": "5d6bdd4c-2290-41f1-99ad-32ce9d0b8da3"
      },
      "execution_count": 99,
      "outputs": [
        {
          "output_type": "execute_result",
          "data": {
            "text/plain": [
              "index                                                            5487\n",
              "Address                465 Mallory Ways\\nNorth Rebecca, RI 82734-1160\n",
              "Lot                                                             93 OH\n",
              "AM or PM                                                           PM\n",
              "Browser Info        Mozilla/5.0 (X11; Linux i686; rv:1.9.6.20) Gec...\n",
              "Company                                                Flynn and Sons\n",
              "Credit Card                                            30469912089738\n",
              "CC Exp Date                                                     09/23\n",
              "CC Security Code                                                  236\n",
              "CC Provider                                                  Discover\n",
              "Email                                             mjohnson@austin.org\n",
              "Job                                                     Stage manager\n",
              "IP Address                                                43.99.56.59\n",
              "Language                                                           zh\n",
              "Purchase Price                                                    0.0\n",
              "Name: 0, dtype: object"
            ]
          },
          "metadata": {},
          "execution_count": 99
        }
      ]
    },
    {
      "cell_type": "code",
      "source": [
        " #another way to get the lowest value from a particular column in the dataset\n",
        "\n",
        "df['Purchase Price'].min()"
      ],
      "metadata": {
        "colab": {
          "base_uri": "https://localhost:8080/"
        },
        "id": "gDBwhADfNCBr",
        "outputId": "7a4d87f4-8fb0-4add-90af-c82ad89de908"
      },
      "execution_count": 100,
      "outputs": [
        {
          "output_type": "execute_result",
          "data": {
            "text/plain": [
              "0.0"
            ]
          },
          "metadata": {},
          "execution_count": 100
        }
      ]
    },
    {
      "cell_type": "code",
      "source": [
        "#get the mean value of a particular column of a given dataset\n",
        "\n",
        "df['Purchase Price'].mean()"
      ],
      "metadata": {
        "colab": {
          "base_uri": "https://localhost:8080/"
        },
        "id": "kKiItC5MNLmD",
        "outputId": "75bcf57b-5be5-4572-85f5-9c3bb92b255a"
      },
      "execution_count": 101,
      "outputs": [
        {
          "output_type": "execute_result",
          "data": {
            "text/plain": [
              "50.347302"
            ]
          },
          "metadata": {},
          "execution_count": 101
        }
      ]
    },
    {
      "cell_type": "code",
      "source": [
        "#checking for matching values for a particular column within a dataset\n",
        "#in this case, we are finding the number of people of have French as their language\n",
        "\n",
        "df.columns"
      ],
      "metadata": {
        "colab": {
          "base_uri": "https://localhost:8080/"
        },
        "id": "iyWQq9jPNVdH",
        "outputId": "014dfaca-b68f-4822-96f7-ba0f8a6b8445"
      },
      "execution_count": 102,
      "outputs": [
        {
          "output_type": "execute_result",
          "data": {
            "text/plain": [
              "Index(['Address', 'Lot', 'AM or PM', 'Browser Info', 'Company', 'Credit Card',\n",
              "       'CC Exp Date', 'CC Security Code', 'CC Provider', 'Email', 'Job',\n",
              "       'IP Address', 'Language', 'Purchase Price'],\n",
              "      dtype='object')"
            ]
          },
          "metadata": {},
          "execution_count": 102
        }
      ]
    },
    {
      "cell_type": "code",
      "source": [
        "#check if there are any missing values within that column\n",
        "df['Language'].isnull().sum()"
      ],
      "metadata": {
        "colab": {
          "base_uri": "https://localhost:8080/"
        },
        "id": "BFcLy9oYNhBS",
        "outputId": "e8f09a0f-7b43-47e8-ce70-dd773f78db4b"
      },
      "execution_count": 103,
      "outputs": [
        {
          "output_type": "execute_result",
          "data": {
            "text/plain": [
              "0"
            ]
          },
          "metadata": {},
          "execution_count": 103
        }
      ]
    },
    {
      "cell_type": "code",
      "source": [
        "#check what are the different unique values present in the dataset\n",
        "df['Language'].unique()"
      ],
      "metadata": {
        "colab": {
          "base_uri": "https://localhost:8080/"
        },
        "id": "UL4zCj3iNpSf",
        "outputId": "12b6356a-508c-4d4c-a481-22bddb6c6a53"
      },
      "execution_count": 104,
      "outputs": [
        {
          "output_type": "execute_result",
          "data": {
            "text/plain": [
              "array(['el', 'fr', 'de', 'es', 'ru', 'pt', 'zh', 'en', 'it'], dtype=object)"
            ]
          },
          "metadata": {},
          "execution_count": 104
        }
      ]
    },
    {
      "cell_type": "code",
      "source": [
        "#check the number of unique values present in the dataset\n",
        "df['Language'].nunique()"
      ],
      "metadata": {
        "colab": {
          "base_uri": "https://localhost:8080/"
        },
        "id": "JWA_HyrJNwR4",
        "outputId": "89b2eb00-1b9c-499c-ff1e-d7405c8e9c08"
      },
      "execution_count": 105,
      "outputs": [
        {
          "output_type": "execute_result",
          "data": {
            "text/plain": [
              "9"
            ]
          },
          "metadata": {},
          "execution_count": 105
        }
      ]
    },
    {
      "cell_type": "code",
      "source": [
        "#group the number of unique values with their respective frequencies\n",
        "df.groupby('Language').nunique()"
      ],
      "metadata": {
        "colab": {
          "base_uri": "https://localhost:8080/",
          "height": 363
        },
        "id": "m-XJfpUyN80c",
        "outputId": "c936223e-0812-4d27-9e4b-c559da3287ec"
      },
      "execution_count": 106,
      "outputs": [
        {
          "output_type": "execute_result",
          "data": {
            "text/plain": [
              "          Address   Lot  AM or PM  Browser Info  Company  Credit Card  \\\n",
              "Language                                                                \n",
              "de           1155  1151         2          1086     1113         1155   \n",
              "el           1137  1134         2          1074     1104         1137   \n",
              "en           1098  1096         2          1041     1071         1098   \n",
              "es           1095  1094         2          1047     1071         1095   \n",
              "fr           1097  1096         2          1042     1069         1097   \n",
              "it           1086  1083         2          1032     1059         1086   \n",
              "pt           1118  1116         2          1046     1085         1118   \n",
              "ru           1155  1154         2          1098     1109         1155   \n",
              "zh           1059  1056         2          1009     1024         1059   \n",
              "\n",
              "          CC Exp Date  CC Security Code  CC Provider  Email  Job  IP Address  \\\n",
              "Language                                                                       \n",
              "de                121               736           10   1155  525        1155   \n",
              "el                121               739           10   1137  511        1137   \n",
              "en                121               732           10   1098  518        1098   \n",
              "es                121               717           10   1095  516        1095   \n",
              "fr                121               720           10   1097  515        1097   \n",
              "it                121               711           10   1086  513        1086   \n",
              "pt                121               740           10   1118  521        1118   \n",
              "ru                121               743           10   1155  518        1155   \n",
              "zh                120               702           10   1058  510        1059   \n",
              "\n",
              "          Purchase Price  \n",
              "Language                  \n",
              "de                  1082  \n",
              "el                  1077  \n",
              "en                  1047  \n",
              "es                  1054  \n",
              "fr                  1050  \n",
              "it                  1034  \n",
              "pt                  1053  \n",
              "ru                  1094  \n",
              "zh                  1009  "
            ],
            "text/html": [
              "\n",
              "  <div id=\"df-03a3c297-7274-4f6e-b592-9e5f488504f5\">\n",
              "    <div class=\"colab-df-container\">\n",
              "      <div>\n",
              "<style scoped>\n",
              "    .dataframe tbody tr th:only-of-type {\n",
              "        vertical-align: middle;\n",
              "    }\n",
              "\n",
              "    .dataframe tbody tr th {\n",
              "        vertical-align: top;\n",
              "    }\n",
              "\n",
              "    .dataframe thead th {\n",
              "        text-align: right;\n",
              "    }\n",
              "</style>\n",
              "<table border=\"1\" class=\"dataframe\">\n",
              "  <thead>\n",
              "    <tr style=\"text-align: right;\">\n",
              "      <th></th>\n",
              "      <th>Address</th>\n",
              "      <th>Lot</th>\n",
              "      <th>AM or PM</th>\n",
              "      <th>Browser Info</th>\n",
              "      <th>Company</th>\n",
              "      <th>Credit Card</th>\n",
              "      <th>CC Exp Date</th>\n",
              "      <th>CC Security Code</th>\n",
              "      <th>CC Provider</th>\n",
              "      <th>Email</th>\n",
              "      <th>Job</th>\n",
              "      <th>IP Address</th>\n",
              "      <th>Purchase Price</th>\n",
              "    </tr>\n",
              "    <tr>\n",
              "      <th>Language</th>\n",
              "      <th></th>\n",
              "      <th></th>\n",
              "      <th></th>\n",
              "      <th></th>\n",
              "      <th></th>\n",
              "      <th></th>\n",
              "      <th></th>\n",
              "      <th></th>\n",
              "      <th></th>\n",
              "      <th></th>\n",
              "      <th></th>\n",
              "      <th></th>\n",
              "      <th></th>\n",
              "    </tr>\n",
              "  </thead>\n",
              "  <tbody>\n",
              "    <tr>\n",
              "      <th>de</th>\n",
              "      <td>1155</td>\n",
              "      <td>1151</td>\n",
              "      <td>2</td>\n",
              "      <td>1086</td>\n",
              "      <td>1113</td>\n",
              "      <td>1155</td>\n",
              "      <td>121</td>\n",
              "      <td>736</td>\n",
              "      <td>10</td>\n",
              "      <td>1155</td>\n",
              "      <td>525</td>\n",
              "      <td>1155</td>\n",
              "      <td>1082</td>\n",
              "    </tr>\n",
              "    <tr>\n",
              "      <th>el</th>\n",
              "      <td>1137</td>\n",
              "      <td>1134</td>\n",
              "      <td>2</td>\n",
              "      <td>1074</td>\n",
              "      <td>1104</td>\n",
              "      <td>1137</td>\n",
              "      <td>121</td>\n",
              "      <td>739</td>\n",
              "      <td>10</td>\n",
              "      <td>1137</td>\n",
              "      <td>511</td>\n",
              "      <td>1137</td>\n",
              "      <td>1077</td>\n",
              "    </tr>\n",
              "    <tr>\n",
              "      <th>en</th>\n",
              "      <td>1098</td>\n",
              "      <td>1096</td>\n",
              "      <td>2</td>\n",
              "      <td>1041</td>\n",
              "      <td>1071</td>\n",
              "      <td>1098</td>\n",
              "      <td>121</td>\n",
              "      <td>732</td>\n",
              "      <td>10</td>\n",
              "      <td>1098</td>\n",
              "      <td>518</td>\n",
              "      <td>1098</td>\n",
              "      <td>1047</td>\n",
              "    </tr>\n",
              "    <tr>\n",
              "      <th>es</th>\n",
              "      <td>1095</td>\n",
              "      <td>1094</td>\n",
              "      <td>2</td>\n",
              "      <td>1047</td>\n",
              "      <td>1071</td>\n",
              "      <td>1095</td>\n",
              "      <td>121</td>\n",
              "      <td>717</td>\n",
              "      <td>10</td>\n",
              "      <td>1095</td>\n",
              "      <td>516</td>\n",
              "      <td>1095</td>\n",
              "      <td>1054</td>\n",
              "    </tr>\n",
              "    <tr>\n",
              "      <th>fr</th>\n",
              "      <td>1097</td>\n",
              "      <td>1096</td>\n",
              "      <td>2</td>\n",
              "      <td>1042</td>\n",
              "      <td>1069</td>\n",
              "      <td>1097</td>\n",
              "      <td>121</td>\n",
              "      <td>720</td>\n",
              "      <td>10</td>\n",
              "      <td>1097</td>\n",
              "      <td>515</td>\n",
              "      <td>1097</td>\n",
              "      <td>1050</td>\n",
              "    </tr>\n",
              "    <tr>\n",
              "      <th>it</th>\n",
              "      <td>1086</td>\n",
              "      <td>1083</td>\n",
              "      <td>2</td>\n",
              "      <td>1032</td>\n",
              "      <td>1059</td>\n",
              "      <td>1086</td>\n",
              "      <td>121</td>\n",
              "      <td>711</td>\n",
              "      <td>10</td>\n",
              "      <td>1086</td>\n",
              "      <td>513</td>\n",
              "      <td>1086</td>\n",
              "      <td>1034</td>\n",
              "    </tr>\n",
              "    <tr>\n",
              "      <th>pt</th>\n",
              "      <td>1118</td>\n",
              "      <td>1116</td>\n",
              "      <td>2</td>\n",
              "      <td>1046</td>\n",
              "      <td>1085</td>\n",
              "      <td>1118</td>\n",
              "      <td>121</td>\n",
              "      <td>740</td>\n",
              "      <td>10</td>\n",
              "      <td>1118</td>\n",
              "      <td>521</td>\n",
              "      <td>1118</td>\n",
              "      <td>1053</td>\n",
              "    </tr>\n",
              "    <tr>\n",
              "      <th>ru</th>\n",
              "      <td>1155</td>\n",
              "      <td>1154</td>\n",
              "      <td>2</td>\n",
              "      <td>1098</td>\n",
              "      <td>1109</td>\n",
              "      <td>1155</td>\n",
              "      <td>121</td>\n",
              "      <td>743</td>\n",
              "      <td>10</td>\n",
              "      <td>1155</td>\n",
              "      <td>518</td>\n",
              "      <td>1155</td>\n",
              "      <td>1094</td>\n",
              "    </tr>\n",
              "    <tr>\n",
              "      <th>zh</th>\n",
              "      <td>1059</td>\n",
              "      <td>1056</td>\n",
              "      <td>2</td>\n",
              "      <td>1009</td>\n",
              "      <td>1024</td>\n",
              "      <td>1059</td>\n",
              "      <td>120</td>\n",
              "      <td>702</td>\n",
              "      <td>10</td>\n",
              "      <td>1058</td>\n",
              "      <td>510</td>\n",
              "      <td>1059</td>\n",
              "      <td>1009</td>\n",
              "    </tr>\n",
              "  </tbody>\n",
              "</table>\n",
              "</div>\n",
              "      <button class=\"colab-df-convert\" onclick=\"convertToInteractive('df-03a3c297-7274-4f6e-b592-9e5f488504f5')\"\n",
              "              title=\"Convert this dataframe to an interactive table.\"\n",
              "              style=\"display:none;\">\n",
              "        \n",
              "  <svg xmlns=\"http://www.w3.org/2000/svg\" height=\"24px\"viewBox=\"0 0 24 24\"\n",
              "       width=\"24px\">\n",
              "    <path d=\"M0 0h24v24H0V0z\" fill=\"none\"/>\n",
              "    <path d=\"M18.56 5.44l.94 2.06.94-2.06 2.06-.94-2.06-.94-.94-2.06-.94 2.06-2.06.94zm-11 1L8.5 8.5l.94-2.06 2.06-.94-2.06-.94L8.5 2.5l-.94 2.06-2.06.94zm10 10l.94 2.06.94-2.06 2.06-.94-2.06-.94-.94-2.06-.94 2.06-2.06.94z\"/><path d=\"M17.41 7.96l-1.37-1.37c-.4-.4-.92-.59-1.43-.59-.52 0-1.04.2-1.43.59L10.3 9.45l-7.72 7.72c-.78.78-.78 2.05 0 2.83L4 21.41c.39.39.9.59 1.41.59.51 0 1.02-.2 1.41-.59l7.78-7.78 2.81-2.81c.8-.78.8-2.07 0-2.86zM5.41 20L4 18.59l7.72-7.72 1.47 1.35L5.41 20z\"/>\n",
              "  </svg>\n",
              "      </button>\n",
              "      \n",
              "  <style>\n",
              "    .colab-df-container {\n",
              "      display:flex;\n",
              "      flex-wrap:wrap;\n",
              "      gap: 12px;\n",
              "    }\n",
              "\n",
              "    .colab-df-convert {\n",
              "      background-color: #E8F0FE;\n",
              "      border: none;\n",
              "      border-radius: 50%;\n",
              "      cursor: pointer;\n",
              "      display: none;\n",
              "      fill: #1967D2;\n",
              "      height: 32px;\n",
              "      padding: 0 0 0 0;\n",
              "      width: 32px;\n",
              "    }\n",
              "\n",
              "    .colab-df-convert:hover {\n",
              "      background-color: #E2EBFA;\n",
              "      box-shadow: 0px 1px 2px rgba(60, 64, 67, 0.3), 0px 1px 3px 1px rgba(60, 64, 67, 0.15);\n",
              "      fill: #174EA6;\n",
              "    }\n",
              "\n",
              "    [theme=dark] .colab-df-convert {\n",
              "      background-color: #3B4455;\n",
              "      fill: #D2E3FC;\n",
              "    }\n",
              "\n",
              "    [theme=dark] .colab-df-convert:hover {\n",
              "      background-color: #434B5C;\n",
              "      box-shadow: 0px 1px 3px 1px rgba(0, 0, 0, 0.15);\n",
              "      filter: drop-shadow(0px 1px 2px rgba(0, 0, 0, 0.3));\n",
              "      fill: #FFFFFF;\n",
              "    }\n",
              "  </style>\n",
              "\n",
              "      <script>\n",
              "        const buttonEl =\n",
              "          document.querySelector('#df-03a3c297-7274-4f6e-b592-9e5f488504f5 button.colab-df-convert');\n",
              "        buttonEl.style.display =\n",
              "          google.colab.kernel.accessAllowed ? 'block' : 'none';\n",
              "\n",
              "        async function convertToInteractive(key) {\n",
              "          const element = document.querySelector('#df-03a3c297-7274-4f6e-b592-9e5f488504f5');\n",
              "          const dataTable =\n",
              "            await google.colab.kernel.invokeFunction('convertToInteractive',\n",
              "                                                     [key], {});\n",
              "          if (!dataTable) return;\n",
              "\n",
              "          const docLinkHtml = 'Like what you see? Visit the ' +\n",
              "            '<a target=\"_blank\" href=https://colab.research.google.com/notebooks/data_table.ipynb>data table notebook</a>'\n",
              "            + ' to learn more about interactive tables.';\n",
              "          element.innerHTML = '';\n",
              "          dataTable['output_type'] = 'display_data';\n",
              "          await google.colab.output.renderOutput(dataTable, element);\n",
              "          const docLink = document.createElement('div');\n",
              "          docLink.innerHTML = docLinkHtml;\n",
              "          element.appendChild(docLink);\n",
              "        }\n",
              "      </script>\n",
              "    </div>\n",
              "  </div>\n",
              "  "
            ]
          },
          "metadata": {},
          "execution_count": 106
        }
      ]
    },
    {
      "cell_type": "code",
      "source": [
        "len(df[df['Language'] == 'fr'])"
      ],
      "metadata": {
        "colab": {
          "base_uri": "https://localhost:8080/"
        },
        "id": "C4nrZtQuOK-C",
        "outputId": "9160facf-d798-4d88-d3ad-30b873ff4dea"
      },
      "execution_count": 107,
      "outputs": [
        {
          "output_type": "execute_result",
          "data": {
            "text/plain": [
              "1097"
            ]
          },
          "metadata": {},
          "execution_count": 107
        }
      ]
    },
    {
      "cell_type": "code",
      "source": [
        "df[df['Language'] == 'fr'].count()"
      ],
      "metadata": {
        "colab": {
          "base_uri": "https://localhost:8080/"
        },
        "id": "BwYVl8REOa9W",
        "outputId": "a33cd236-a74b-46b6-c449-2a8beb66e5a5"
      },
      "execution_count": 108,
      "outputs": [
        {
          "output_type": "execute_result",
          "data": {
            "text/plain": [
              "Address             1097\n",
              "Lot                 1097\n",
              "AM or PM            1097\n",
              "Browser Info        1097\n",
              "Company             1097\n",
              "Credit Card         1097\n",
              "CC Exp Date         1097\n",
              "CC Security Code    1097\n",
              "CC Provider         1097\n",
              "Email               1097\n",
              "Job                 1097\n",
              "IP Address          1097\n",
              "Language            1097\n",
              "Purchase Price      1097\n",
              "dtype: int64"
            ]
          },
          "metadata": {},
          "execution_count": 108
        }
      ]
    },
    {
      "cell_type": "code",
      "source": [
        "#get the job title than contains engineer\n",
        "\n",
        "df.columns"
      ],
      "metadata": {
        "colab": {
          "base_uri": "https://localhost:8080/"
        },
        "id": "pODrPzyGO2Aj",
        "outputId": "71d11203-d973-443b-ec3f-3686951ce2e0"
      },
      "execution_count": 109,
      "outputs": [
        {
          "output_type": "execute_result",
          "data": {
            "text/plain": [
              "Index(['Address', 'Lot', 'AM or PM', 'Browser Info', 'Company', 'Credit Card',\n",
              "       'CC Exp Date', 'CC Security Code', 'CC Provider', 'Email', 'Job',\n",
              "       'IP Address', 'Language', 'Purchase Price'],\n",
              "      dtype='object')"
            ]
          },
          "metadata": {},
          "execution_count": 109
        }
      ]
    },
    {
      "cell_type": "code",
      "source": [
        "len(df[df['Job'].str.contains('engineer', case = True)])"
      ],
      "metadata": {
        "colab": {
          "base_uri": "https://localhost:8080/"
        },
        "id": "8tJPqVtpO7yj",
        "outputId": "91ef1393-4e5e-4a39-92f3-8bc68f5f9bd7"
      },
      "execution_count": 110,
      "outputs": [
        {
          "output_type": "execute_result",
          "data": {
            "text/plain": [
              "531"
            ]
          },
          "metadata": {},
          "execution_count": 110
        }
      ]
    },
    {
      "cell_type": "code",
      "source": [
        "#find email of the person with the following IP address - 132.207.160.22\n",
        "\n",
        "df.columns"
      ],
      "metadata": {
        "colab": {
          "base_uri": "https://localhost:8080/"
        },
        "id": "tKFvuib7O9gu",
        "outputId": "fde3ab70-f374-47d4-f7ef-7d6a6a309ec9"
      },
      "execution_count": 111,
      "outputs": [
        {
          "output_type": "execute_result",
          "data": {
            "text/plain": [
              "Index(['Address', 'Lot', 'AM or PM', 'Browser Info', 'Company', 'Credit Card',\n",
              "       'CC Exp Date', 'CC Security Code', 'CC Provider', 'Email', 'Job',\n",
              "       'IP Address', 'Language', 'Purchase Price'],\n",
              "      dtype='object')"
            ]
          },
          "metadata": {},
          "execution_count": 111
        }
      ]
    },
    {
      "cell_type": "code",
      "source": [
        "df[df['IP Address'] == '132.207.160.22']"
      ],
      "metadata": {
        "colab": {
          "base_uri": "https://localhost:8080/",
          "height": 194
        },
        "id": "ekJPjh8GjEl6",
        "outputId": "8b1d7a30-dd9f-4d48-9ac3-8cce72710c07"
      },
      "execution_count": 113,
      "outputs": [
        {
          "output_type": "execute_result",
          "data": {
            "text/plain": [
              "                            Address    Lot AM or PM  \\\n",
              "2  Unit 0065 Box 5052\\nDPO AP 27450  94 vE       PM   \n",
              "\n",
              "                                        Browser Info  \\\n",
              "2  Mozilla/5.0 (compatible; MSIE 9.0; Windows NT ...   \n",
              "\n",
              "                      Company   Credit Card CC Exp Date  CC Security Code  \\\n",
              "2  Simpson, Williams and Pham  675957666125       08/19               699   \n",
              "\n",
              "    CC Provider                           Email                       Job  \\\n",
              "2  JCB 16 digit  amymiller@morales-harrison.com  Customer service manager   \n",
              "\n",
              "       IP Address Language  Purchase Price  \n",
              "2  132.207.160.22       de            0.95  "
            ],
            "text/html": [
              "\n",
              "  <div id=\"df-599f430a-33f0-4e0d-af5f-05d644b90cdd\">\n",
              "    <div class=\"colab-df-container\">\n",
              "      <div>\n",
              "<style scoped>\n",
              "    .dataframe tbody tr th:only-of-type {\n",
              "        vertical-align: middle;\n",
              "    }\n",
              "\n",
              "    .dataframe tbody tr th {\n",
              "        vertical-align: top;\n",
              "    }\n",
              "\n",
              "    .dataframe thead th {\n",
              "        text-align: right;\n",
              "    }\n",
              "</style>\n",
              "<table border=\"1\" class=\"dataframe\">\n",
              "  <thead>\n",
              "    <tr style=\"text-align: right;\">\n",
              "      <th></th>\n",
              "      <th>Address</th>\n",
              "      <th>Lot</th>\n",
              "      <th>AM or PM</th>\n",
              "      <th>Browser Info</th>\n",
              "      <th>Company</th>\n",
              "      <th>Credit Card</th>\n",
              "      <th>CC Exp Date</th>\n",
              "      <th>CC Security Code</th>\n",
              "      <th>CC Provider</th>\n",
              "      <th>Email</th>\n",
              "      <th>Job</th>\n",
              "      <th>IP Address</th>\n",
              "      <th>Language</th>\n",
              "      <th>Purchase Price</th>\n",
              "    </tr>\n",
              "  </thead>\n",
              "  <tbody>\n",
              "    <tr>\n",
              "      <th>2</th>\n",
              "      <td>Unit 0065 Box 5052\\nDPO AP 27450</td>\n",
              "      <td>94 vE</td>\n",
              "      <td>PM</td>\n",
              "      <td>Mozilla/5.0 (compatible; MSIE 9.0; Windows NT ...</td>\n",
              "      <td>Simpson, Williams and Pham</td>\n",
              "      <td>675957666125</td>\n",
              "      <td>08/19</td>\n",
              "      <td>699</td>\n",
              "      <td>JCB 16 digit</td>\n",
              "      <td>amymiller@morales-harrison.com</td>\n",
              "      <td>Customer service manager</td>\n",
              "      <td>132.207.160.22</td>\n",
              "      <td>de</td>\n",
              "      <td>0.95</td>\n",
              "    </tr>\n",
              "  </tbody>\n",
              "</table>\n",
              "</div>\n",
              "      <button class=\"colab-df-convert\" onclick=\"convertToInteractive('df-599f430a-33f0-4e0d-af5f-05d644b90cdd')\"\n",
              "              title=\"Convert this dataframe to an interactive table.\"\n",
              "              style=\"display:none;\">\n",
              "        \n",
              "  <svg xmlns=\"http://www.w3.org/2000/svg\" height=\"24px\"viewBox=\"0 0 24 24\"\n",
              "       width=\"24px\">\n",
              "    <path d=\"M0 0h24v24H0V0z\" fill=\"none\"/>\n",
              "    <path d=\"M18.56 5.44l.94 2.06.94-2.06 2.06-.94-2.06-.94-.94-2.06-.94 2.06-2.06.94zm-11 1L8.5 8.5l.94-2.06 2.06-.94-2.06-.94L8.5 2.5l-.94 2.06-2.06.94zm10 10l.94 2.06.94-2.06 2.06-.94-2.06-.94-.94-2.06-.94 2.06-2.06.94z\"/><path d=\"M17.41 7.96l-1.37-1.37c-.4-.4-.92-.59-1.43-.59-.52 0-1.04.2-1.43.59L10.3 9.45l-7.72 7.72c-.78.78-.78 2.05 0 2.83L4 21.41c.39.39.9.59 1.41.59.51 0 1.02-.2 1.41-.59l7.78-7.78 2.81-2.81c.8-.78.8-2.07 0-2.86zM5.41 20L4 18.59l7.72-7.72 1.47 1.35L5.41 20z\"/>\n",
              "  </svg>\n",
              "      </button>\n",
              "      \n",
              "  <style>\n",
              "    .colab-df-container {\n",
              "      display:flex;\n",
              "      flex-wrap:wrap;\n",
              "      gap: 12px;\n",
              "    }\n",
              "\n",
              "    .colab-df-convert {\n",
              "      background-color: #E8F0FE;\n",
              "      border: none;\n",
              "      border-radius: 50%;\n",
              "      cursor: pointer;\n",
              "      display: none;\n",
              "      fill: #1967D2;\n",
              "      height: 32px;\n",
              "      padding: 0 0 0 0;\n",
              "      width: 32px;\n",
              "    }\n",
              "\n",
              "    .colab-df-convert:hover {\n",
              "      background-color: #E2EBFA;\n",
              "      box-shadow: 0px 1px 2px rgba(60, 64, 67, 0.3), 0px 1px 3px 1px rgba(60, 64, 67, 0.15);\n",
              "      fill: #174EA6;\n",
              "    }\n",
              "\n",
              "    [theme=dark] .colab-df-convert {\n",
              "      background-color: #3B4455;\n",
              "      fill: #D2E3FC;\n",
              "    }\n",
              "\n",
              "    [theme=dark] .colab-df-convert:hover {\n",
              "      background-color: #434B5C;\n",
              "      box-shadow: 0px 1px 3px 1px rgba(0, 0, 0, 0.15);\n",
              "      filter: drop-shadow(0px 1px 2px rgba(0, 0, 0, 0.3));\n",
              "      fill: #FFFFFF;\n",
              "    }\n",
              "  </style>\n",
              "\n",
              "      <script>\n",
              "        const buttonEl =\n",
              "          document.querySelector('#df-599f430a-33f0-4e0d-af5f-05d644b90cdd button.colab-df-convert');\n",
              "        buttonEl.style.display =\n",
              "          google.colab.kernel.accessAllowed ? 'block' : 'none';\n",
              "\n",
              "        async function convertToInteractive(key) {\n",
              "          const element = document.querySelector('#df-599f430a-33f0-4e0d-af5f-05d644b90cdd');\n",
              "          const dataTable =\n",
              "            await google.colab.kernel.invokeFunction('convertToInteractive',\n",
              "                                                     [key], {});\n",
              "          if (!dataTable) return;\n",
              "\n",
              "          const docLinkHtml = 'Like what you see? Visit the ' +\n",
              "            '<a target=\"_blank\" href=https://colab.research.google.com/notebooks/data_table.ipynb>data table notebook</a>'\n",
              "            + ' to learn more about interactive tables.';\n",
              "          element.innerHTML = '';\n",
              "          dataTable['output_type'] = 'display_data';\n",
              "          await google.colab.output.renderOutput(dataTable, element);\n",
              "          const docLink = document.createElement('div');\n",
              "          docLink.innerHTML = docLinkHtml;\n",
              "          element.appendChild(docLink);\n",
              "        }\n",
              "      </script>\n",
              "    </div>\n",
              "  </div>\n",
              "  "
            ]
          },
          "metadata": {},
          "execution_count": 113
        }
      ]
    },
    {
      "cell_type": "code",
      "source": [],
      "metadata": {
        "id": "MPCJSNOeljTt"
      },
      "execution_count": null,
      "outputs": []
    },
    {
      "cell_type": "code",
      "source": [
        "#how many people have a mastercard as their credit card provider and made a purchase above 50\n",
        "\n",
        "len(df[(df['CC Provider'] == 'Mastercard') & (df['Purchase Price'] > 50)])"
      ],
      "metadata": {
        "colab": {
          "base_uri": "https://localhost:8080/"
        },
        "id": "DNUJDuyqjJwi",
        "outputId": "3721009a-f689-484f-8620-d3b0f824bc18"
      },
      "execution_count": 124,
      "outputs": [
        {
          "output_type": "execute_result",
          "data": {
            "text/plain": [
              "405"
            ]
          },
          "metadata": {},
          "execution_count": 124
        }
      ]
    },
    {
      "cell_type": "code",
      "source": [
        "#find the email of the person with the following credit card number - 675957666125\n",
        "df[df['Email'] == \"amymiller@morales-harrison.com\"]['Job']"
      ],
      "metadata": {
        "colab": {
          "base_uri": "https://localhost:8080/"
        },
        "id": "mgTUHv-_jhPC",
        "outputId": "c95d0293-ed3d-4735-cb33-161741a8b121"
      },
      "execution_count": 141,
      "outputs": [
        {
          "output_type": "execute_result",
          "data": {
            "text/plain": [
              "2    Customer service manager\n",
              "Name: Job, dtype: object"
            ]
          },
          "metadata": {},
          "execution_count": 141
        }
      ]
    },
    {
      "cell_type": "code",
      "source": [
        "# how many people purchase during the AM and how many people purchase during the PM\n",
        "\n",
        "df.columns"
      ],
      "metadata": {
        "colab": {
          "base_uri": "https://localhost:8080/"
        },
        "id": "IdgMSH7xkbIm",
        "outputId": "d80d4238-4171-42aa-e3f7-6fdc13314ea8"
      },
      "execution_count": 142,
      "outputs": [
        {
          "output_type": "execute_result",
          "data": {
            "text/plain": [
              "Index(['Address', 'Lot', 'AM or PM', 'Browser Info', 'Company', 'Credit Card',\n",
              "       'CC Exp Date', 'CC Security Code', 'CC Provider', 'Email', 'Job',\n",
              "       'IP Address', 'Language', 'Purchase Price'],\n",
              "      dtype='object')"
            ]
          },
          "metadata": {},
          "execution_count": 142
        }
      ]
    },
    {
      "cell_type": "code",
      "source": [
        "print('Number of AM people:', len(df[df['AM or PM'] == 'AM']))\n",
        "print('Number of PM people:', len(df[df['AM or PM'] == 'PM']))"
      ],
      "metadata": {
        "colab": {
          "base_uri": "https://localhost:8080/"
        },
        "id": "pNILEqrrl97H",
        "outputId": "586df05c-ea99-4121-e1c0-f3d7b59ae0a7"
      },
      "execution_count": 151,
      "outputs": [
        {
          "output_type": "stream",
          "name": "stdout",
          "text": [
            "Number of AM people: 4932\n",
            "Number of PM people: 5068\n"
          ]
        }
      ]
    },
    {
      "cell_type": "code",
      "source": [
        "#how many people have a credit card that expires in 2020\n",
        "\n",
        "df.columns"
      ],
      "metadata": {
        "colab": {
          "base_uri": "https://localhost:8080/"
        },
        "id": "nRnJenbjmCvh",
        "outputId": "41eeb1d5-2299-47e4-f56d-9ebe9537f1ff"
      },
      "execution_count": 152,
      "outputs": [
        {
          "output_type": "execute_result",
          "data": {
            "text/plain": [
              "Index(['Address', 'Lot', 'AM or PM', 'Browser Info', 'Company', 'Credit Card',\n",
              "       'CC Exp Date', 'CC Security Code', 'CC Provider', 'Email', 'Job',\n",
              "       'IP Address', 'Language', 'Purchase Price'],\n",
              "      dtype='object')"
            ]
          },
          "metadata": {},
          "execution_count": 152
        }
      ]
    },
    {
      "cell_type": "code",
      "source": [
        "def fun():\n",
        "  count = 0\n",
        "  for date in df['CC Exp Date']:\n",
        "    if date.split('/')[1] == '20':\n",
        "      count = count + 1\n",
        "  print(count)\n",
        "\n",
        "fun()"
      ],
      "metadata": {
        "colab": {
          "base_uri": "https://localhost:8080/"
        },
        "id": "zENC_55sm2VM",
        "outputId": "e544f5b2-cc90-4076-ac00-114b5258bfba"
      },
      "execution_count": 160,
      "outputs": [
        {
          "output_type": "stream",
          "name": "stdout",
          "text": [
            "988\n"
          ]
        }
      ]
    },
    {
      "cell_type": "code",
      "source": [
        "len(df[df['CC Exp Date'].apply(lambda x: x[3:] == '20')])"
      ],
      "metadata": {
        "colab": {
          "base_uri": "https://localhost:8080/"
        },
        "id": "zfjmv5sqnEbL",
        "outputId": "9ac66e4d-7a1a-4768-bfa8-f1398d8fe70c"
      },
      "execution_count": 165,
      "outputs": [
        {
          "output_type": "execute_result",
          "data": {
            "text/plain": [
              "988"
            ]
          },
          "metadata": {},
          "execution_count": 165
        }
      ]
    },
    {
      "cell_type": "code",
      "source": [
        "#top five most popular email providers \n",
        "\n",
        "list1 = []\n",
        "for email in df['Email']:\n",
        "  list1.append(email.split('@')[1])\n"
      ],
      "metadata": {
        "id": "e5yAYsoJnkqY"
      },
      "execution_count": 170,
      "outputs": []
    },
    {
      "cell_type": "code",
      "source": [
        "new_frame = df['Temp'] = list1"
      ],
      "metadata": {
        "id": "ExZg9mYqpJZ-"
      },
      "execution_count": 173,
      "outputs": []
    },
    {
      "cell_type": "code",
      "source": [
        "df.head(1)"
      ],
      "metadata": {
        "colab": {
          "base_uri": "https://localhost:8080/",
          "height": 211
        },
        "id": "ta13bY6HreaP",
        "outputId": "7ea0a12a-e5c7-4b10-a40c-1458f385b28f"
      },
      "execution_count": 174,
      "outputs": [
        {
          "output_type": "execute_result",
          "data": {
            "text/plain": [
              "                                             Address    Lot AM or PM  \\\n",
              "0  16629 Pace Camp Apt. 448\\nAlexisborough, NE 77...  46 in       PM   \n",
              "\n",
              "                                        Browser Info          Company  \\\n",
              "0  Opera/9.56.(X11; Linux x86_64; sl-SI) Presto/2...  Martinez-Herman   \n",
              "\n",
              "       Credit Card CC Exp Date  CC Security Code   CC Provider  \\\n",
              "0  466482528997302       02/20               900  JCB 16 digit   \n",
              "\n",
              "               Email                                     Job       IP Address  \\\n",
              "0  pdunlap@yahoo.com  Scientist, product/process development  149.146.147.205   \n",
              "\n",
              "  Language  Purchase Price       Temp  \n",
              "0       el           98.14  yahoo.com  "
            ],
            "text/html": [
              "\n",
              "  <div id=\"df-fb1c26b1-f101-4b2a-9148-0f2ceb67b8e7\">\n",
              "    <div class=\"colab-df-container\">\n",
              "      <div>\n",
              "<style scoped>\n",
              "    .dataframe tbody tr th:only-of-type {\n",
              "        vertical-align: middle;\n",
              "    }\n",
              "\n",
              "    .dataframe tbody tr th {\n",
              "        vertical-align: top;\n",
              "    }\n",
              "\n",
              "    .dataframe thead th {\n",
              "        text-align: right;\n",
              "    }\n",
              "</style>\n",
              "<table border=\"1\" class=\"dataframe\">\n",
              "  <thead>\n",
              "    <tr style=\"text-align: right;\">\n",
              "      <th></th>\n",
              "      <th>Address</th>\n",
              "      <th>Lot</th>\n",
              "      <th>AM or PM</th>\n",
              "      <th>Browser Info</th>\n",
              "      <th>Company</th>\n",
              "      <th>Credit Card</th>\n",
              "      <th>CC Exp Date</th>\n",
              "      <th>CC Security Code</th>\n",
              "      <th>CC Provider</th>\n",
              "      <th>Email</th>\n",
              "      <th>Job</th>\n",
              "      <th>IP Address</th>\n",
              "      <th>Language</th>\n",
              "      <th>Purchase Price</th>\n",
              "      <th>Temp</th>\n",
              "    </tr>\n",
              "  </thead>\n",
              "  <tbody>\n",
              "    <tr>\n",
              "      <th>0</th>\n",
              "      <td>16629 Pace Camp Apt. 448\\nAlexisborough, NE 77...</td>\n",
              "      <td>46 in</td>\n",
              "      <td>PM</td>\n",
              "      <td>Opera/9.56.(X11; Linux x86_64; sl-SI) Presto/2...</td>\n",
              "      <td>Martinez-Herman</td>\n",
              "      <td>466482528997302</td>\n",
              "      <td>02/20</td>\n",
              "      <td>900</td>\n",
              "      <td>JCB 16 digit</td>\n",
              "      <td>pdunlap@yahoo.com</td>\n",
              "      <td>Scientist, product/process development</td>\n",
              "      <td>149.146.147.205</td>\n",
              "      <td>el</td>\n",
              "      <td>98.14</td>\n",
              "      <td>yahoo.com</td>\n",
              "    </tr>\n",
              "  </tbody>\n",
              "</table>\n",
              "</div>\n",
              "      <button class=\"colab-df-convert\" onclick=\"convertToInteractive('df-fb1c26b1-f101-4b2a-9148-0f2ceb67b8e7')\"\n",
              "              title=\"Convert this dataframe to an interactive table.\"\n",
              "              style=\"display:none;\">\n",
              "        \n",
              "  <svg xmlns=\"http://www.w3.org/2000/svg\" height=\"24px\"viewBox=\"0 0 24 24\"\n",
              "       width=\"24px\">\n",
              "    <path d=\"M0 0h24v24H0V0z\" fill=\"none\"/>\n",
              "    <path d=\"M18.56 5.44l.94 2.06.94-2.06 2.06-.94-2.06-.94-.94-2.06-.94 2.06-2.06.94zm-11 1L8.5 8.5l.94-2.06 2.06-.94-2.06-.94L8.5 2.5l-.94 2.06-2.06.94zm10 10l.94 2.06.94-2.06 2.06-.94-2.06-.94-.94-2.06-.94 2.06-2.06.94z\"/><path d=\"M17.41 7.96l-1.37-1.37c-.4-.4-.92-.59-1.43-.59-.52 0-1.04.2-1.43.59L10.3 9.45l-7.72 7.72c-.78.78-.78 2.05 0 2.83L4 21.41c.39.39.9.59 1.41.59.51 0 1.02-.2 1.41-.59l7.78-7.78 2.81-2.81c.8-.78.8-2.07 0-2.86zM5.41 20L4 18.59l7.72-7.72 1.47 1.35L5.41 20z\"/>\n",
              "  </svg>\n",
              "      </button>\n",
              "      \n",
              "  <style>\n",
              "    .colab-df-container {\n",
              "      display:flex;\n",
              "      flex-wrap:wrap;\n",
              "      gap: 12px;\n",
              "    }\n",
              "\n",
              "    .colab-df-convert {\n",
              "      background-color: #E8F0FE;\n",
              "      border: none;\n",
              "      border-radius: 50%;\n",
              "      cursor: pointer;\n",
              "      display: none;\n",
              "      fill: #1967D2;\n",
              "      height: 32px;\n",
              "      padding: 0 0 0 0;\n",
              "      width: 32px;\n",
              "    }\n",
              "\n",
              "    .colab-df-convert:hover {\n",
              "      background-color: #E2EBFA;\n",
              "      box-shadow: 0px 1px 2px rgba(60, 64, 67, 0.3), 0px 1px 3px 1px rgba(60, 64, 67, 0.15);\n",
              "      fill: #174EA6;\n",
              "    }\n",
              "\n",
              "    [theme=dark] .colab-df-convert {\n",
              "      background-color: #3B4455;\n",
              "      fill: #D2E3FC;\n",
              "    }\n",
              "\n",
              "    [theme=dark] .colab-df-convert:hover {\n",
              "      background-color: #434B5C;\n",
              "      box-shadow: 0px 1px 3px 1px rgba(0, 0, 0, 0.15);\n",
              "      filter: drop-shadow(0px 1px 2px rgba(0, 0, 0, 0.3));\n",
              "      fill: #FFFFFF;\n",
              "    }\n",
              "  </style>\n",
              "\n",
              "      <script>\n",
              "        const buttonEl =\n",
              "          document.querySelector('#df-fb1c26b1-f101-4b2a-9148-0f2ceb67b8e7 button.colab-df-convert');\n",
              "        buttonEl.style.display =\n",
              "          google.colab.kernel.accessAllowed ? 'block' : 'none';\n",
              "\n",
              "        async function convertToInteractive(key) {\n",
              "          const element = document.querySelector('#df-fb1c26b1-f101-4b2a-9148-0f2ceb67b8e7');\n",
              "          const dataTable =\n",
              "            await google.colab.kernel.invokeFunction('convertToInteractive',\n",
              "                                                     [key], {});\n",
              "          if (!dataTable) return;\n",
              "\n",
              "          const docLinkHtml = 'Like what you see? Visit the ' +\n",
              "            '<a target=\"_blank\" href=https://colab.research.google.com/notebooks/data_table.ipynb>data table notebook</a>'\n",
              "            + ' to learn more about interactive tables.';\n",
              "          element.innerHTML = '';\n",
              "          dataTable['output_type'] = 'display_data';\n",
              "          await google.colab.output.renderOutput(dataTable, element);\n",
              "          const docLink = document.createElement('div');\n",
              "          docLink.innerHTML = docLinkHtml;\n",
              "          element.appendChild(docLink);\n",
              "        }\n",
              "      </script>\n",
              "    </div>\n",
              "  </div>\n",
              "  "
            ]
          },
          "metadata": {},
          "execution_count": 174
        }
      ]
    },
    {
      "cell_type": "code",
      "source": [
        "df['Temp'].value_counts().head(5)"
      ],
      "metadata": {
        "colab": {
          "base_uri": "https://localhost:8080/"
        },
        "id": "dUE-P6MPrte_",
        "outputId": "f6a67eac-9abc-4250-8337-5579927fa359"
      },
      "execution_count": 176,
      "outputs": [
        {
          "output_type": "execute_result",
          "data": {
            "text/plain": [
              "hotmail.com     1638\n",
              "yahoo.com       1616\n",
              "gmail.com       1605\n",
              "smith.com         42\n",
              "williams.com      37\n",
              "Name: Temp, dtype: int64"
            ]
          },
          "metadata": {},
          "execution_count": 176
        }
      ]
    },
    {
      "cell_type": "code",
      "source": [
        "df['Email'].apply(lambda x:x.split('@')[1]).value_counts().head(5)"
      ],
      "metadata": {
        "colab": {
          "base_uri": "https://localhost:8080/"
        },
        "id": "qbJyHe4RxeoK",
        "outputId": "ce535a2a-db29-40e7-ebe1-959c7c2ea12e"
      },
      "execution_count": 179,
      "outputs": [
        {
          "output_type": "execute_result",
          "data": {
            "text/plain": [
              "hotmail.com     1638\n",
              "yahoo.com       1616\n",
              "gmail.com       1605\n",
              "smith.com         42\n",
              "williams.com      37\n",
              "Name: Email, dtype: int64"
            ]
          },
          "metadata": {},
          "execution_count": 179
        }
      ]
    }
  ]
}